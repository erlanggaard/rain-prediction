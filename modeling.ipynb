{
 "cells": [
  {
   "cell_type": "markdown",
   "id": "a03b55c2",
   "metadata": {},
   "source": [
    "## Project Overview"
   ]
  },
  {
   "cell_type": "markdown",
   "id": "4db464e1",
   "metadata": {},
   "source": [
    "### Context\n",
    "Prediksi hujan hari berikutnya dengan melatih model klasifikasi pada variabel target RainTomorrow."
   ]
  },
  {
   "cell_type": "markdown",
   "id": "617a25a9",
   "metadata": {},
   "source": [
    "### Content\n",
    "Kumpulan data ini berisi sekitar 10 tahun pengamatan cuaca harian dari banyak lokasi diseluruh Australia. RainTomorrow adalah variabel target untuk diprediksi. Artinya apakah hari berikutnya hujan, Ya atau Tidak?"
   ]
  },
  {
   "cell_type": "markdown",
   "id": "e5da0aae",
   "metadata": {},
   "source": [
    "### Source & Acknowledgements\n",
    "Observations were drawn from numerous weather stations. The daily observations are available from http://www.bom.gov.au/climate/data.\n",
    "An example of latest weather observations in Canberra: http://www.bom.gov.au/climate/dwo/IDCJDW2801.latest.shtml\n",
    "\n",
    "Definitions adapted from http://www.bom.gov.au/climate/dwo/IDCJDW0000.shtml\n",
    "Data source: http://www.bom.gov.au/climate/dwo/ and http://www.bom.gov.au/climate/data.\n",
    "\n",
    "Copyright Commonwealth of Australia 2010, Bureau of Meteorology."
   ]
  },
  {
   "cell_type": "markdown",
   "id": "8c4d691c",
   "metadata": {},
   "source": [
    "### Attribute Information\n",
    "Attribute Information:\n",
    "1. Date - tanggal hari itu\n",
    "2. Location - lokasi, nama kota di Australia\n",
    "3. MinTemp - temperatur terendah hari itu dalam celcius\n",
    "4. MaxTemp - temperatur tertinggi hari itu dalam celcius\n",
    "5. Rainfall - jumlah curah hujan hari itu dalam mm\n",
    "6. Evaporation - jumlah evaporasi dalam mm dari Class A pan selama 24 jam\n",
    "sebelum jam 9 pagi hari itu\n",
    "7. Sunshine - jumlah jam hari itu cerah dengan cahaya matahari\n",
    "8. WindGustDir - arah kecepatan angin yang paling tinggi selama 24 jam sebelum\n",
    "jam 12 malam hari itu\n",
    "9. WindGustSpeed - kecepatan angin yang paling tinggi dalam km/jam selama 24\n",
    "jam sebelum jam 12 malam hari itu\n",
    "10. WindDir9am - arah angin jam 9 pagi\n",
    "11. WindDir3pm - arah angin jam 3 sore\n",
    "12. WindSpeed9am - kecepatan angin jam 9 pagi dalam km/jam dihitung dari\n",
    "rata-rata kecepatan angin 10 menit sebelum jam 9 pagi\n",
    "13. WindSpeed3pm - kecepatan angin jam 3 sore dalam km/jam dihitung dari\n",
    "rata-rata kecepatan angin 10 menit sebelum jam 3 sore\n",
    "14. Humidity9am - humiditas jam 9 pagi dalam persen\n",
    "15. Humidity3pm - humiditas jam 3 sore dalam persen\n",
    "16. Pressure9am - tekanan udara jam 9 pagi dalam hpa\n",
    "17. Pressure3pm - tekanan udara jam 3 sore dalam hpa\n",
    "18. Cloud9am - persentase langit yang tertutup awan jam 9 pagi. dihitung dalam\n",
    "oktas, unit ⅛, menghitung berapa unit ⅛ dari langit yang tertutup awan. Jika 0,\n",
    "langit cerah, jika 8, langit sepenuhnya tertutup awan.\n",
    "19. Cloud3pm - persentase langit yang tertutup awan jam 3 sore\n",
    "20. Temp9am - temperatur jam 9 pagi dalam celcius\n",
    "21. Temp3pm - temperatur jam 3 sore dalam celcius\n",
    "22. RainToday - apakah hari ini hujan: jika curah hujan 24 jam sebelum jam 9 pagi\n",
    "melebihi 1mm, maka nilai ini adalah 1, jika tidak nilai nya 0\n",
    "23. RainTomorrow - variable yang mau di prediksi\n"
   ]
  },
  {
   "cell_type": "markdown",
   "id": "028b48e8",
   "metadata": {},
   "source": [
    "## Import Module"
   ]
  },
  {
   "cell_type": "code",
   "execution_count": 1,
   "id": "87768d20",
   "metadata": {},
   "outputs": [],
   "source": [
    "import pandas as pd\n",
    "pd.set_option('display.max_columns', None)\n",
    "import warnings\n",
    "warnings.filterwarnings('ignore')"
   ]
  },
  {
   "cell_type": "markdown",
   "id": "cb52699f",
   "metadata": {},
   "source": [
    "## Data Loading"
   ]
  },
  {
   "cell_type": "code",
   "execution_count": 2,
   "id": "9fb987a4",
   "metadata": {},
   "outputs": [],
   "source": [
    "data = pd.read_csv('../dataset/weatherAUS.csv')\n",
    "data.reset_index(inplace=True)"
   ]
  },
  {
   "cell_type": "code",
   "execution_count": 3,
   "id": "58db8c5a",
   "metadata": {},
   "outputs": [],
   "source": [
    "data.drop(columns='index', axis=1, inplace=True)"
   ]
  },
  {
   "cell_type": "code",
   "execution_count": 4,
   "id": "fdcc6cb0",
   "metadata": {},
   "outputs": [
    {
     "data": {
      "text/html": [
       "<div>\n",
       "<style scoped>\n",
       "    .dataframe tbody tr th:only-of-type {\n",
       "        vertical-align: middle;\n",
       "    }\n",
       "\n",
       "    .dataframe tbody tr th {\n",
       "        vertical-align: top;\n",
       "    }\n",
       "\n",
       "    .dataframe thead th {\n",
       "        text-align: right;\n",
       "    }\n",
       "</style>\n",
       "<table border=\"1\" class=\"dataframe\">\n",
       "  <thead>\n",
       "    <tr style=\"text-align: right;\">\n",
       "      <th></th>\n",
       "      <th>Date</th>\n",
       "      <th>Location</th>\n",
       "      <th>MinTemp</th>\n",
       "      <th>MaxTemp</th>\n",
       "      <th>Rainfall</th>\n",
       "      <th>Evaporation</th>\n",
       "      <th>Sunshine</th>\n",
       "      <th>WindGustDir</th>\n",
       "      <th>WindGustSpeed</th>\n",
       "      <th>WindDir9am</th>\n",
       "      <th>WindDir3pm</th>\n",
       "      <th>WindSpeed9am</th>\n",
       "      <th>WindSpeed3pm</th>\n",
       "      <th>Humidity9am</th>\n",
       "      <th>Humidity3pm</th>\n",
       "      <th>Pressure9am</th>\n",
       "      <th>Pressure3pm</th>\n",
       "      <th>Cloud9am</th>\n",
       "      <th>Cloud3pm</th>\n",
       "      <th>Temp9am</th>\n",
       "      <th>Temp3pm</th>\n",
       "      <th>RainToday</th>\n",
       "      <th>RainTomorrow</th>\n",
       "    </tr>\n",
       "  </thead>\n",
       "  <tbody>\n",
       "    <tr>\n",
       "      <th>0</th>\n",
       "      <td>2008-12-01</td>\n",
       "      <td>Albury</td>\n",
       "      <td>13.4</td>\n",
       "      <td>22.9</td>\n",
       "      <td>0.6</td>\n",
       "      <td>NaN</td>\n",
       "      <td>NaN</td>\n",
       "      <td>W</td>\n",
       "      <td>44.0</td>\n",
       "      <td>W</td>\n",
       "      <td>WNW</td>\n",
       "      <td>20.0</td>\n",
       "      <td>24.0</td>\n",
       "      <td>71.0</td>\n",
       "      <td>22.0</td>\n",
       "      <td>1007.7</td>\n",
       "      <td>1007.1</td>\n",
       "      <td>8.0</td>\n",
       "      <td>NaN</td>\n",
       "      <td>16.9</td>\n",
       "      <td>21.8</td>\n",
       "      <td>No</td>\n",
       "      <td>No</td>\n",
       "    </tr>\n",
       "    <tr>\n",
       "      <th>1</th>\n",
       "      <td>2008-12-02</td>\n",
       "      <td>Albury</td>\n",
       "      <td>7.4</td>\n",
       "      <td>25.1</td>\n",
       "      <td>0.0</td>\n",
       "      <td>NaN</td>\n",
       "      <td>NaN</td>\n",
       "      <td>WNW</td>\n",
       "      <td>44.0</td>\n",
       "      <td>NNW</td>\n",
       "      <td>WSW</td>\n",
       "      <td>4.0</td>\n",
       "      <td>22.0</td>\n",
       "      <td>44.0</td>\n",
       "      <td>25.0</td>\n",
       "      <td>1010.6</td>\n",
       "      <td>1007.8</td>\n",
       "      <td>NaN</td>\n",
       "      <td>NaN</td>\n",
       "      <td>17.2</td>\n",
       "      <td>24.3</td>\n",
       "      <td>No</td>\n",
       "      <td>No</td>\n",
       "    </tr>\n",
       "  </tbody>\n",
       "</table>\n",
       "</div>"
      ],
      "text/plain": [
       "         Date Location  MinTemp  MaxTemp  Rainfall  Evaporation  Sunshine  \\\n",
       "0  2008-12-01   Albury     13.4     22.9       0.6          NaN       NaN   \n",
       "1  2008-12-02   Albury      7.4     25.1       0.0          NaN       NaN   \n",
       "\n",
       "  WindGustDir  WindGustSpeed WindDir9am WindDir3pm  WindSpeed9am  \\\n",
       "0           W           44.0          W        WNW          20.0   \n",
       "1         WNW           44.0        NNW        WSW           4.0   \n",
       "\n",
       "   WindSpeed3pm  Humidity9am  Humidity3pm  Pressure9am  Pressure3pm  Cloud9am  \\\n",
       "0          24.0         71.0         22.0       1007.7       1007.1       8.0   \n",
       "1          22.0         44.0         25.0       1010.6       1007.8       NaN   \n",
       "\n",
       "   Cloud3pm  Temp9am  Temp3pm RainToday RainTomorrow  \n",
       "0       NaN     16.9     21.8        No           No  \n",
       "1       NaN     17.2     24.3        No           No  "
      ]
     },
     "execution_count": 4,
     "metadata": {},
     "output_type": "execute_result"
    }
   ],
   "source": [
    "data.head(2)"
   ]
  },
  {
   "cell_type": "markdown",
   "id": "af98e397",
   "metadata": {},
   "source": [
    "Cek informasi mengenai dataset yang kita miliki."
   ]
  },
  {
   "cell_type": "code",
   "execution_count": 5,
   "id": "f65c15df",
   "metadata": {},
   "outputs": [
    {
     "data": {
      "text/plain": [
       "(145460, 23)"
      ]
     },
     "execution_count": 5,
     "metadata": {},
     "output_type": "execute_result"
    }
   ],
   "source": [
    "data.shape"
   ]
  },
  {
   "cell_type": "markdown",
   "id": "a1062355",
   "metadata": {},
   "source": [
    "Jumlah data ini <b>145.460</b> baris dengan <b>23 kolom</b>"
   ]
  },
  {
   "cell_type": "code",
   "execution_count": 6,
   "id": "05195e21",
   "metadata": {},
   "outputs": [
    {
     "name": "stdout",
     "output_type": "stream",
     "text": [
      "<class 'pandas.core.frame.DataFrame'>\n",
      "RangeIndex: 145460 entries, 0 to 145459\n",
      "Data columns (total 23 columns):\n",
      " #   Column         Non-Null Count   Dtype  \n",
      "---  ------         --------------   -----  \n",
      " 0   Date           145460 non-null  object \n",
      " 1   Location       145460 non-null  object \n",
      " 2   MinTemp        143975 non-null  float64\n",
      " 3   MaxTemp        144199 non-null  float64\n",
      " 4   Rainfall       142199 non-null  float64\n",
      " 5   Evaporation    82670 non-null   float64\n",
      " 6   Sunshine       75625 non-null   float64\n",
      " 7   WindGustDir    135134 non-null  object \n",
      " 8   WindGustSpeed  135197 non-null  float64\n",
      " 9   WindDir9am     134894 non-null  object \n",
      " 10  WindDir3pm     141232 non-null  object \n",
      " 11  WindSpeed9am   143693 non-null  float64\n",
      " 12  WindSpeed3pm   142398 non-null  float64\n",
      " 13  Humidity9am    142806 non-null  float64\n",
      " 14  Humidity3pm    140953 non-null  float64\n",
      " 15  Pressure9am    130395 non-null  float64\n",
      " 16  Pressure3pm    130432 non-null  float64\n",
      " 17  Cloud9am       89572 non-null   float64\n",
      " 18  Cloud3pm       86102 non-null   float64\n",
      " 19  Temp9am        143693 non-null  float64\n",
      " 20  Temp3pm        141851 non-null  float64\n",
      " 21  RainToday      142199 non-null  object \n",
      " 22  RainTomorrow   142193 non-null  object \n",
      "dtypes: float64(16), object(7)\n",
      "memory usage: 25.5+ MB\n"
     ]
    }
   ],
   "source": [
    "data.info()"
   ]
  },
  {
   "cell_type": "markdown",
   "id": "8d1f0c65",
   "metadata": {},
   "source": [
    "Pada informasi diatas, dapat dilihat bahwa banyak sekali kolom yang mengandung Null atau NaN values. Maka dari itu kita harus mengatasinya terlebih dahulu."
   ]
  },
  {
   "cell_type": "markdown",
   "id": "611b64d1",
   "metadata": {},
   "source": [
    "## Data Cleaning"
   ]
  },
  {
   "cell_type": "code",
   "execution_count": 7,
   "id": "ecfcd430",
   "metadata": {},
   "outputs": [],
   "source": [
    "data['Year'] = pd.DatetimeIndex(data['Date']).year\n",
    "data['Month'] = pd.DatetimeIndex(data['Date']).month\n",
    "data['Day'] = pd.DatetimeIndex(data['Date']).day"
   ]
  },
  {
   "cell_type": "code",
   "execution_count": 8,
   "id": "5f3125ad",
   "metadata": {},
   "outputs": [
    {
     "data": {
      "text/html": [
       "<div>\n",
       "<style scoped>\n",
       "    .dataframe tbody tr th:only-of-type {\n",
       "        vertical-align: middle;\n",
       "    }\n",
       "\n",
       "    .dataframe tbody tr th {\n",
       "        vertical-align: top;\n",
       "    }\n",
       "\n",
       "    .dataframe thead th {\n",
       "        text-align: right;\n",
       "    }\n",
       "</style>\n",
       "<table border=\"1\" class=\"dataframe\">\n",
       "  <thead>\n",
       "    <tr style=\"text-align: right;\">\n",
       "      <th></th>\n",
       "      <th>Date</th>\n",
       "      <th>Location</th>\n",
       "      <th>MinTemp</th>\n",
       "      <th>MaxTemp</th>\n",
       "      <th>Rainfall</th>\n",
       "      <th>Evaporation</th>\n",
       "      <th>Sunshine</th>\n",
       "      <th>WindGustDir</th>\n",
       "      <th>WindGustSpeed</th>\n",
       "      <th>WindDir9am</th>\n",
       "      <th>WindDir3pm</th>\n",
       "      <th>WindSpeed9am</th>\n",
       "      <th>WindSpeed3pm</th>\n",
       "      <th>Humidity9am</th>\n",
       "      <th>Humidity3pm</th>\n",
       "      <th>Pressure9am</th>\n",
       "      <th>Pressure3pm</th>\n",
       "      <th>Cloud9am</th>\n",
       "      <th>Cloud3pm</th>\n",
       "      <th>Temp9am</th>\n",
       "      <th>Temp3pm</th>\n",
       "      <th>RainToday</th>\n",
       "      <th>RainTomorrow</th>\n",
       "      <th>Year</th>\n",
       "      <th>Month</th>\n",
       "      <th>Day</th>\n",
       "    </tr>\n",
       "  </thead>\n",
       "  <tbody>\n",
       "    <tr>\n",
       "      <th>0</th>\n",
       "      <td>2008-12-01</td>\n",
       "      <td>Albury</td>\n",
       "      <td>13.4</td>\n",
       "      <td>22.9</td>\n",
       "      <td>0.6</td>\n",
       "      <td>NaN</td>\n",
       "      <td>NaN</td>\n",
       "      <td>W</td>\n",
       "      <td>44.0</td>\n",
       "      <td>W</td>\n",
       "      <td>WNW</td>\n",
       "      <td>20.0</td>\n",
       "      <td>24.0</td>\n",
       "      <td>71.0</td>\n",
       "      <td>22.0</td>\n",
       "      <td>1007.7</td>\n",
       "      <td>1007.1</td>\n",
       "      <td>8.0</td>\n",
       "      <td>NaN</td>\n",
       "      <td>16.9</td>\n",
       "      <td>21.8</td>\n",
       "      <td>No</td>\n",
       "      <td>No</td>\n",
       "      <td>2008</td>\n",
       "      <td>12</td>\n",
       "      <td>1</td>\n",
       "    </tr>\n",
       "    <tr>\n",
       "      <th>1</th>\n",
       "      <td>2008-12-02</td>\n",
       "      <td>Albury</td>\n",
       "      <td>7.4</td>\n",
       "      <td>25.1</td>\n",
       "      <td>0.0</td>\n",
       "      <td>NaN</td>\n",
       "      <td>NaN</td>\n",
       "      <td>WNW</td>\n",
       "      <td>44.0</td>\n",
       "      <td>NNW</td>\n",
       "      <td>WSW</td>\n",
       "      <td>4.0</td>\n",
       "      <td>22.0</td>\n",
       "      <td>44.0</td>\n",
       "      <td>25.0</td>\n",
       "      <td>1010.6</td>\n",
       "      <td>1007.8</td>\n",
       "      <td>NaN</td>\n",
       "      <td>NaN</td>\n",
       "      <td>17.2</td>\n",
       "      <td>24.3</td>\n",
       "      <td>No</td>\n",
       "      <td>No</td>\n",
       "      <td>2008</td>\n",
       "      <td>12</td>\n",
       "      <td>2</td>\n",
       "    </tr>\n",
       "  </tbody>\n",
       "</table>\n",
       "</div>"
      ],
      "text/plain": [
       "         Date Location  MinTemp  MaxTemp  Rainfall  Evaporation  Sunshine  \\\n",
       "0  2008-12-01   Albury     13.4     22.9       0.6          NaN       NaN   \n",
       "1  2008-12-02   Albury      7.4     25.1       0.0          NaN       NaN   \n",
       "\n",
       "  WindGustDir  WindGustSpeed WindDir9am WindDir3pm  WindSpeed9am  \\\n",
       "0           W           44.0          W        WNW          20.0   \n",
       "1         WNW           44.0        NNW        WSW           4.0   \n",
       "\n",
       "   WindSpeed3pm  Humidity9am  Humidity3pm  Pressure9am  Pressure3pm  Cloud9am  \\\n",
       "0          24.0         71.0         22.0       1007.7       1007.1       8.0   \n",
       "1          22.0         44.0         25.0       1010.6       1007.8       NaN   \n",
       "\n",
       "   Cloud3pm  Temp9am  Temp3pm RainToday RainTomorrow  Year  Month  Day  \n",
       "0       NaN     16.9     21.8        No           No  2008     12    1  \n",
       "1       NaN     17.2     24.3        No           No  2008     12    2  "
      ]
     },
     "execution_count": 8,
     "metadata": {},
     "output_type": "execute_result"
    }
   ],
   "source": [
    "data.head(2)"
   ]
  },
  {
   "cell_type": "markdown",
   "id": "fecf841c",
   "metadata": {},
   "source": [
    "### Handle Missing Values"
   ]
  },
  {
   "cell_type": "code",
   "execution_count": 9,
   "id": "f1f07692",
   "metadata": {},
   "outputs": [
    {
     "data": {
      "text/plain": [
       "Date                 0\n",
       "Location             0\n",
       "MinTemp           1485\n",
       "MaxTemp           1261\n",
       "Rainfall          3261\n",
       "Evaporation      62790\n",
       "Sunshine         69835\n",
       "WindGustDir      10326\n",
       "WindGustSpeed    10263\n",
       "WindDir9am       10566\n",
       "WindDir3pm        4228\n",
       "WindSpeed9am      1767\n",
       "WindSpeed3pm      3062\n",
       "Humidity9am       2654\n",
       "Humidity3pm       4507\n",
       "Pressure9am      15065\n",
       "Pressure3pm      15028\n",
       "Cloud9am         55888\n",
       "Cloud3pm         59358\n",
       "Temp9am           1767\n",
       "Temp3pm           3609\n",
       "RainToday         3261\n",
       "RainTomorrow      3267\n",
       "Year                 0\n",
       "Month                0\n",
       "Day                  0\n",
       "dtype: int64"
      ]
     },
     "execution_count": 9,
     "metadata": {},
     "output_type": "execute_result"
    }
   ],
   "source": [
    "data.isnull().sum()"
   ]
  },
  {
   "cell_type": "code",
   "execution_count": 10,
   "id": "2a7218e4",
   "metadata": {},
   "outputs": [
    {
     "data": {
      "text/html": [
       "<div>\n",
       "<style scoped>\n",
       "    .dataframe tbody tr th:only-of-type {\n",
       "        vertical-align: middle;\n",
       "    }\n",
       "\n",
       "    .dataframe tbody tr th {\n",
       "        vertical-align: top;\n",
       "    }\n",
       "\n",
       "    .dataframe thead th {\n",
       "        text-align: right;\n",
       "    }\n",
       "</style>\n",
       "<table border=\"1\" class=\"dataframe\">\n",
       "  <thead>\n",
       "    <tr style=\"text-align: right;\">\n",
       "      <th></th>\n",
       "      <th>percentage of missing values</th>\n",
       "    </tr>\n",
       "  </thead>\n",
       "  <tbody>\n",
       "    <tr>\n",
       "      <th>Date</th>\n",
       "      <td>0.00</td>\n",
       "    </tr>\n",
       "    <tr>\n",
       "      <th>Location</th>\n",
       "      <td>0.00</td>\n",
       "    </tr>\n",
       "    <tr>\n",
       "      <th>MinTemp</th>\n",
       "      <td>1.02</td>\n",
       "    </tr>\n",
       "    <tr>\n",
       "      <th>MaxTemp</th>\n",
       "      <td>0.87</td>\n",
       "    </tr>\n",
       "    <tr>\n",
       "      <th>Rainfall</th>\n",
       "      <td>2.24</td>\n",
       "    </tr>\n",
       "    <tr>\n",
       "      <th>Evaporation</th>\n",
       "      <td>43.17</td>\n",
       "    </tr>\n",
       "    <tr>\n",
       "      <th>Sunshine</th>\n",
       "      <td>48.01</td>\n",
       "    </tr>\n",
       "    <tr>\n",
       "      <th>WindGustDir</th>\n",
       "      <td>7.10</td>\n",
       "    </tr>\n",
       "    <tr>\n",
       "      <th>WindGustSpeed</th>\n",
       "      <td>7.06</td>\n",
       "    </tr>\n",
       "    <tr>\n",
       "      <th>WindDir9am</th>\n",
       "      <td>7.26</td>\n",
       "    </tr>\n",
       "    <tr>\n",
       "      <th>WindDir3pm</th>\n",
       "      <td>2.91</td>\n",
       "    </tr>\n",
       "    <tr>\n",
       "      <th>WindSpeed9am</th>\n",
       "      <td>1.21</td>\n",
       "    </tr>\n",
       "    <tr>\n",
       "      <th>WindSpeed3pm</th>\n",
       "      <td>2.11</td>\n",
       "    </tr>\n",
       "    <tr>\n",
       "      <th>Humidity9am</th>\n",
       "      <td>1.82</td>\n",
       "    </tr>\n",
       "    <tr>\n",
       "      <th>Humidity3pm</th>\n",
       "      <td>3.10</td>\n",
       "    </tr>\n",
       "    <tr>\n",
       "      <th>Pressure9am</th>\n",
       "      <td>10.36</td>\n",
       "    </tr>\n",
       "    <tr>\n",
       "      <th>Pressure3pm</th>\n",
       "      <td>10.33</td>\n",
       "    </tr>\n",
       "    <tr>\n",
       "      <th>Cloud9am</th>\n",
       "      <td>38.42</td>\n",
       "    </tr>\n",
       "    <tr>\n",
       "      <th>Cloud3pm</th>\n",
       "      <td>40.81</td>\n",
       "    </tr>\n",
       "    <tr>\n",
       "      <th>Temp9am</th>\n",
       "      <td>1.21</td>\n",
       "    </tr>\n",
       "    <tr>\n",
       "      <th>Temp3pm</th>\n",
       "      <td>2.48</td>\n",
       "    </tr>\n",
       "    <tr>\n",
       "      <th>RainToday</th>\n",
       "      <td>2.24</td>\n",
       "    </tr>\n",
       "    <tr>\n",
       "      <th>RainTomorrow</th>\n",
       "      <td>2.25</td>\n",
       "    </tr>\n",
       "    <tr>\n",
       "      <th>Year</th>\n",
       "      <td>0.00</td>\n",
       "    </tr>\n",
       "    <tr>\n",
       "      <th>Month</th>\n",
       "      <td>0.00</td>\n",
       "    </tr>\n",
       "    <tr>\n",
       "      <th>Day</th>\n",
       "      <td>0.00</td>\n",
       "    </tr>\n",
       "  </tbody>\n",
       "</table>\n",
       "</div>"
      ],
      "text/plain": [
       "               percentage of missing values\n",
       "Date                                   0.00\n",
       "Location                               0.00\n",
       "MinTemp                                1.02\n",
       "MaxTemp                                0.87\n",
       "Rainfall                               2.24\n",
       "Evaporation                           43.17\n",
       "Sunshine                              48.01\n",
       "WindGustDir                            7.10\n",
       "WindGustSpeed                          7.06\n",
       "WindDir9am                             7.26\n",
       "WindDir3pm                             2.91\n",
       "WindSpeed9am                           1.21\n",
       "WindSpeed3pm                           2.11\n",
       "Humidity9am                            1.82\n",
       "Humidity3pm                            3.10\n",
       "Pressure9am                           10.36\n",
       "Pressure3pm                           10.33\n",
       "Cloud9am                              38.42\n",
       "Cloud3pm                              40.81\n",
       "Temp9am                                1.21\n",
       "Temp3pm                                2.48\n",
       "RainToday                              2.24\n",
       "RainTomorrow                           2.25\n",
       "Year                                   0.00\n",
       "Month                                  0.00\n",
       "Day                                    0.00"
      ]
     },
     "execution_count": 10,
     "metadata": {},
     "output_type": "execute_result"
    }
   ],
   "source": [
    "percentage_of_na = pd.DataFrame(round(data.isnull().sum() / len(data) * 100, 2))\n",
    "percentage_of_na.rename(columns={0:'percentage of missing values'})"
   ]
  },
  {
   "cell_type": "markdown",
   "id": "a1b82dce",
   "metadata": {},
   "source": [
    "Pada bagian ini, kita cek terlebih dahulu ada berapa persen total missing value pada masing masing kolom di dataset ini. Hasilnya ada banyak sekali missing values pada dataset ini. Mari kita atasi kolom per kolom nya."
   ]
  },
  {
   "cell_type": "code",
   "execution_count": 11,
   "id": "9fa54cc8",
   "metadata": {},
   "outputs": [],
   "source": [
    "# Drop row that has more than 30% missing values\n",
    "data.dropna(subset='Evaporation', inplace=True)\n",
    "data.dropna(subset='Sunshine', inplace=True)\n",
    "data.dropna(subset='Cloud9am', inplace=True)\n",
    "data.dropna(subset='Cloud3pm', inplace=True)"
   ]
  },
  {
   "cell_type": "markdown",
   "id": "dc45452d",
   "metadata": {},
   "source": [
    "Setelah mempertimbangkan berbagai cara, data ini akhirnya akan di drop karna data yang hilang lebih dari 30%."
   ]
  },
  {
   "cell_type": "code",
   "execution_count": 12,
   "id": "8b798105",
   "metadata": {},
   "outputs": [],
   "source": [
    "data.dropna(subset='RainToday', inplace=True)\n",
    "data.dropna(subset='RainTomorrow', inplace=True)"
   ]
  },
  {
   "cell_type": "markdown",
   "id": "b6f9c623",
   "metadata": {},
   "source": [
    "Pada kolom <b>RainToday</b> dan <b>RainTomorrow</b> akan kita drop, karna kolom itu merupakan kolom utama dari dataset ini."
   ]
  },
  {
   "cell_type": "code",
   "execution_count": 13,
   "id": "9956b991",
   "metadata": {},
   "outputs": [],
   "source": [
    "# List untuk kolom categorical\n",
    "col_cat_na = ['WindGustDir', 'WindDir9am', 'WindDir3pm']"
   ]
  },
  {
   "cell_type": "code",
   "execution_count": 14,
   "id": "0f96f8a3",
   "metadata": {},
   "outputs": [],
   "source": [
    "for col in col_cat_na:\n",
    "    data[col].fillna(data[col].mode, inplace=True)"
   ]
  },
  {
   "cell_type": "markdown",
   "id": "e5fe7c69",
   "metadata": {},
   "source": [
    "Untuk mengatasi data yang hilang pada kolom categorical, kita melakukan looping pada setiap kolom dan mengisi kolom categorical ini dengan mode pada setiap kolomnya."
   ]
  },
  {
   "cell_type": "code",
   "execution_count": 15,
   "id": "de4dae0a",
   "metadata": {},
   "outputs": [
    {
     "data": {
      "text/plain": [
       "Index(['MinTemp', 'MaxTemp', 'Rainfall', 'Evaporation', 'Sunshine',\n",
       "       'WindGustSpeed', 'WindSpeed9am', 'WindSpeed3pm', 'Humidity9am',\n",
       "       'Humidity3pm', 'Pressure9am', 'Pressure3pm', 'Cloud9am', 'Cloud3pm',\n",
       "       'Temp9am', 'Temp3pm'],\n",
       "      dtype='object')"
      ]
     },
     "execution_count": 15,
     "metadata": {},
     "output_type": "execute_result"
    }
   ],
   "source": [
    "data.select_dtypes(include=float).columns"
   ]
  },
  {
   "cell_type": "code",
   "execution_count": 16,
   "id": "8fba00a2",
   "metadata": {},
   "outputs": [],
   "source": [
    "for col in data.select_dtypes(include=float).columns:\n",
    "    data[col].fillna(data[col].median(), inplace=True)"
   ]
  },
  {
   "cell_type": "markdown",
   "id": "8222c944",
   "metadata": {},
   "source": [
    "Menghandle missing value pada numerical kolom. Diisi menggunakan median."
   ]
  },
  {
   "cell_type": "code",
   "execution_count": 17,
   "id": "a3f7de88",
   "metadata": {},
   "outputs": [
    {
     "data": {
      "text/plain": [
       "Date             0\n",
       "Location         0\n",
       "MinTemp          0\n",
       "MaxTemp          0\n",
       "Rainfall         0\n",
       "Evaporation      0\n",
       "Sunshine         0\n",
       "WindGustDir      0\n",
       "WindGustSpeed    0\n",
       "WindDir9am       0\n",
       "WindDir3pm       0\n",
       "WindSpeed9am     0\n",
       "WindSpeed3pm     0\n",
       "Humidity9am      0\n",
       "Humidity3pm      0\n",
       "Pressure9am      0\n",
       "Pressure3pm      0\n",
       "Cloud9am         0\n",
       "Cloud3pm         0\n",
       "Temp9am          0\n",
       "Temp3pm          0\n",
       "RainToday        0\n",
       "RainTomorrow     0\n",
       "Year             0\n",
       "Month            0\n",
       "Day              0\n",
       "dtype: int64"
      ]
     },
     "execution_count": 17,
     "metadata": {},
     "output_type": "execute_result"
    }
   ],
   "source": [
    "data.isnull().sum()"
   ]
  },
  {
   "cell_type": "code",
   "execution_count": 18,
   "id": "f368b106",
   "metadata": {},
   "outputs": [
    {
     "data": {
      "text/plain": [
       "(62294, 26)"
      ]
     },
     "execution_count": 18,
     "metadata": {},
     "output_type": "execute_result"
    }
   ],
   "source": [
    "data.shape"
   ]
  },
  {
   "cell_type": "markdown",
   "id": "f0b5a498",
   "metadata": {},
   "source": [
    "Setelah kita lakukan data cleaning, maka kita akan mendapatkan data <b>62294</b>"
   ]
  },
  {
   "cell_type": "markdown",
   "id": "8419f4cb",
   "metadata": {},
   "source": [
    "### Identify Duplicated Data"
   ]
  },
  {
   "cell_type": "code",
   "execution_count": 19,
   "id": "36a0fe78",
   "metadata": {},
   "outputs": [
    {
     "data": {
      "text/plain": [
       "False"
      ]
     },
     "execution_count": 19,
     "metadata": {},
     "output_type": "execute_result"
    }
   ],
   "source": [
    "data.duplicated().any()"
   ]
  },
  {
   "cell_type": "markdown",
   "id": "50aa85d8",
   "metadata": {},
   "source": [
    "Setelah di cek duplikasi data pada dataset ini, ternyata pada dataset ini tidak terdapat data yang duplikasi."
   ]
  },
  {
   "cell_type": "markdown",
   "id": "b88f232a",
   "metadata": {},
   "source": [
    "### Handle Outliers"
   ]
  },
  {
   "cell_type": "code",
   "execution_count": 20,
   "id": "bb8239bf",
   "metadata": {},
   "outputs": [],
   "source": [
    "import matplotlib.pyplot as plt\n",
    "import seaborn as sns\n",
    "\n",
    "%matplotlib inline"
   ]
  },
  {
   "cell_type": "code",
   "execution_count": 21,
   "id": "a8f4507d",
   "metadata": {},
   "outputs": [
    {
     "data": {
      "image/png": "[encoded data removed]",
      "text/plain": [
       "<Figure size 432x288 with 1 Axes>"
      ]
     },
     "metadata": {
      "needs_background": "light"
     },
     "output_type": "display_data"
    },
    {
     "data": {
      "image/png": "[encoded data removed]",
      "text/plain": [
       "<Figure size 432x288 with 1 Axes>"
      ]
     },
     "metadata": {
      "needs_background": "light"
     },
     "output_type": "display_data"
    },
    {
     "data": {
      "image/png": "[encoded data removed]",
      "text/plain": [
       "<Figure size 432x288 with 1 Axes>"
      ]
     },
     "metadata": {
      "needs_background": "light"
     },
     "output_type": "display_data"
    },
    {
     "data": {
      "image/png": "[encoded data removed]",
      "text/plain": [
       "<Figure size 432x288 with 1 Axes>"
      ]
     },
     "metadata": {
      "needs_background": "light"
     },
     "output_type": "display_data"
    },
    {
     "data": {
      "image/png": "[encoded data removed]",
      "text/plain": [
       "<Figure size 432x288 with 1 Axes>"
      ]
     },
     "metadata": {
      "needs_background": "light"
     },
     "output_type": "display_data"
    },
    {
     "data": {
      "image/png": "[encoded data removed]",
      "text/plain": [
       "<Figure size 432x288 with 1 Axes>"
      ]
     },
     "metadata": {
      "needs_background": "light"
     },
     "output_type": "display_data"
    },
    {
     "data": {
      "image/png": "[encoded data removed]",
      "text/plain": [
       "<Figure size 432x288 with 1 Axes>"
      ]
     },
     "metadata": {
      "needs_background": "light"
     },
     "output_type": "display_data"
    },
    {
     "data": {
      "image/png": "[encoded data removed]",
      "text/plain": [
       "<Figure size 432x288 with 1 Axes>"
      ]
     },
     "metadata": {
      "needs_background": "light"
     },
     "output_type": "display_data"
    },
    {
     "data": {
      "image/png": "[encoded data removed]",
      "text/plain": [
       "<Figure size 432x288 with 1 Axes>"
      ]
     },
     "metadata": {
      "needs_background": "light"
     },
     "output_type": "display_data"
    },
    {
     "data": {
      "image/png": "[encoded data removed]",
      "text/plain": [
       "<Figure size 432x288 with 1 Axes>"
      ]
     },
     "metadata": {
      "needs_background": "light"
     },
     "output_type": "display_data"
    },
    {
     "data": {
      "image/png": "[encoded data removed]",
      "text/plain": [
       "<Figure size 432x288 with 1 Axes>"
      ]
     },
     "metadata": {
      "needs_background": "light"
     },
     "output_type": "display_data"
    },
    {
     "data": {
      "image/png": "[encoded data removed]",
      "text/plain": [
       "<Figure size 432x288 with 1 Axes>"
      ]
     },
     "metadata": {
      "needs_background": "light"
     },
     "output_type": "display_data"
    },
    {
     "data": {
      "image/png": "[encoded data removed]",
      "text/plain": [
       "<Figure size 432x288 with 1 Axes>"
      ]
     },
     "metadata": {
      "needs_background": "light"
     },
     "output_type": "display_data"
    },
    {
     "data": {
      "image/png": "[encoded data removed]",
      "text/plain": [
       "<Figure size 432x288 with 1 Axes>"
      ]
     },
     "metadata": {
      "needs_background": "light"
     },
     "output_type": "display_data"
    },
    {
     "data": {
      "image/png": "[encoded data removed]",
      "text/plain": [
       "<Figure size 432x288 with 1 Axes>"
      ]
     },
     "metadata": {
      "needs_background": "light"
     },
     "output_type": "display_data"
    },
    {
     "data": {
      "image/png": "[encoded data removed]",
      "text/plain": [
       "<Figure size 432x288 with 1 Axes>"
      ]
     },
     "metadata": {
      "needs_background": "light"
     },
     "output_type": "display_data"
    }
   ],
   "source": [
    "for col in data.select_dtypes(include=float).columns:\n",
    "    plt.figure()\n",
    "    sns.boxplot(x=data[col])\n",
    "plt.show()"
   ]
  },
  {
   "cell_type": "code",
   "execution_count": 22,
   "id": "3443d6ce",
   "metadata": {},
   "outputs": [],
   "source": [
    "Q1 = data[data.select_dtypes(include=float).columns].quantile(0.25)\n",
    "Q3 = data[data.select_dtypes(include=float).columns].quantile(0.75)\n",
    "\n",
    "IQR = Q3-Q1"
   ]
  },
  {
   "cell_type": "code",
   "execution_count": 23,
   "id": "241afff0",
   "metadata": {},
   "outputs": [],
   "source": [
    "minimum = Q1-(1.5*IQR)\n",
    "maximum = Q3+(1.5*IQR)"
   ]
  },
  {
   "cell_type": "markdown",
   "id": "a1eb9223",
   "metadata": {},
   "source": [
    "Untuk menghandle outliers ada banyak cara, salah satu yang dipakai pada saat ini adalah metode IQR atau Interquartile Range. "
   ]
  },
  {
   "cell_type": "code",
   "execution_count": 24,
   "id": "b7c7e1e8",
   "metadata": {},
   "outputs": [
    {
     "name": "stdout",
     "output_type": "stream",
     "text": [
      "MinTemp           -5.90\n",
      "MaxTemp            2.30\n",
      "Rainfall          -1.20\n",
      "Evaporation       -4.10\n",
      "Sunshine          -3.65\n",
      "WindGustSpeed      5.50\n",
      "WindSpeed9am      -7.50\n",
      "WindSpeed3pm      -3.50\n",
      "Humidity9am       20.00\n",
      "Humidity3pm       -6.00\n",
      "Pressure9am      999.00\n",
      "Pressure3pm      996.10\n",
      "Cloud9am          -8.00\n",
      "Cloud3pm          -5.50\n",
      "Temp9am           -1.85\n",
      "Temp3pm            1.75\n",
      "dtype: float64\n",
      "========================================\n",
      "MinTemp            32.50\n",
      "MaxTemp            45.50\n",
      "Rainfall            2.00\n",
      "Evaporation        14.30\n",
      "Sunshine           19.15\n",
      "WindGustSpeed      73.50\n",
      "WindSpeed9am       36.50\n",
      "WindSpeed3pm       40.50\n",
      "Humidity9am       116.00\n",
      "Humidity3pm       106.00\n",
      "Pressure9am      1035.80\n",
      "Pressure3pm      1033.70\n",
      "Cloud9am           16.00\n",
      "Cloud3pm           14.50\n",
      "Temp9am            37.75\n",
      "Temp3pm            42.95\n",
      "dtype: float64\n"
     ]
    }
   ],
   "source": [
    "print(minimum)\n",
    "print('=' * 40)\n",
    "print(maximum)"
   ]
  },
  {
   "cell_type": "code",
   "execution_count": 25,
   "id": "75cf8ab9",
   "metadata": {},
   "outputs": [
    {
     "data": {
      "text/html": [
       "<div>\n",
       "<style scoped>\n",
       "    .dataframe tbody tr th:only-of-type {\n",
       "        vertical-align: middle;\n",
       "    }\n",
       "\n",
       "    .dataframe tbody tr th {\n",
       "        vertical-align: top;\n",
       "    }\n",
       "\n",
       "    .dataframe thead th {\n",
       "        text-align: right;\n",
       "    }\n",
       "</style>\n",
       "<table border=\"1\" class=\"dataframe\">\n",
       "  <thead>\n",
       "    <tr style=\"text-align: right;\">\n",
       "      <th></th>\n",
       "      <th>MinTemp</th>\n",
       "      <th>MaxTemp</th>\n",
       "      <th>Rainfall</th>\n",
       "      <th>Evaporation</th>\n",
       "      <th>Sunshine</th>\n",
       "      <th>WindGustSpeed</th>\n",
       "      <th>WindSpeed9am</th>\n",
       "      <th>WindSpeed3pm</th>\n",
       "      <th>Humidity9am</th>\n",
       "      <th>Humidity3pm</th>\n",
       "      <th>Pressure9am</th>\n",
       "      <th>Pressure3pm</th>\n",
       "      <th>Cloud9am</th>\n",
       "      <th>Cloud3pm</th>\n",
       "      <th>Temp9am</th>\n",
       "      <th>Temp3pm</th>\n",
       "      <th>Year</th>\n",
       "      <th>Month</th>\n",
       "      <th>Day</th>\n",
       "    </tr>\n",
       "  </thead>\n",
       "  <tbody>\n",
       "    <tr>\n",
       "      <th>count</th>\n",
       "      <td>62294.000000</td>\n",
       "      <td>62294.000000</td>\n",
       "      <td>62294.000000</td>\n",
       "      <td>62294.000000</td>\n",
       "      <td>62294.000000</td>\n",
       "      <td>62294.000000</td>\n",
       "      <td>62294.000000</td>\n",
       "      <td>62294.00000</td>\n",
       "      <td>62294.000000</td>\n",
       "      <td>62294.000000</td>\n",
       "      <td>62294.000000</td>\n",
       "      <td>62294.000000</td>\n",
       "      <td>62294.000000</td>\n",
       "      <td>62294.000000</td>\n",
       "      <td>62294.000000</td>\n",
       "      <td>62294.000000</td>\n",
       "      <td>62294.000000</td>\n",
       "      <td>62294.000000</td>\n",
       "      <td>62294.000000</td>\n",
       "    </tr>\n",
       "    <tr>\n",
       "      <th>mean</th>\n",
       "      <td>13.320545</td>\n",
       "      <td>23.940874</td>\n",
       "      <td>2.141139</td>\n",
       "      <td>5.377068</td>\n",
       "      <td>7.647690</td>\n",
       "      <td>40.453013</td>\n",
       "      <td>15.108678</td>\n",
       "      <td>19.54262</td>\n",
       "      <td>66.563168</td>\n",
       "      <td>50.460430</td>\n",
       "      <td>1017.385758</td>\n",
       "      <td>1014.958921</td>\n",
       "      <td>4.279577</td>\n",
       "      <td>4.344544</td>\n",
       "      <td>17.991362</td>\n",
       "      <td>22.436782</td>\n",
       "      <td>2012.136899</td>\n",
       "      <td>6.409975</td>\n",
       "      <td>15.722959</td>\n",
       "    </tr>\n",
       "    <tr>\n",
       "      <th>std</th>\n",
       "      <td>6.372635</td>\n",
       "      <td>6.890906</td>\n",
       "      <td>6.949013</td>\n",
       "      <td>3.642557</td>\n",
       "      <td>3.763977</td>\n",
       "      <td>12.975827</td>\n",
       "      <td>8.628194</td>\n",
       "      <td>8.62582</td>\n",
       "      <td>18.421690</td>\n",
       "      <td>20.204592</td>\n",
       "      <td>6.957664</td>\n",
       "      <td>6.921487</td>\n",
       "      <td>2.802830</td>\n",
       "      <td>2.651058</td>\n",
       "      <td>6.509657</td>\n",
       "      <td>6.752409</td>\n",
       "      <td>2.449623</td>\n",
       "      <td>3.422503</td>\n",
       "      <td>8.790760</td>\n",
       "    </tr>\n",
       "    <tr>\n",
       "      <th>min</th>\n",
       "      <td>-6.700000</td>\n",
       "      <td>4.100000</td>\n",
       "      <td>0.000000</td>\n",
       "      <td>0.000000</td>\n",
       "      <td>0.000000</td>\n",
       "      <td>9.000000</td>\n",
       "      <td>0.000000</td>\n",
       "      <td>0.00000</td>\n",
       "      <td>0.000000</td>\n",
       "      <td>0.000000</td>\n",
       "      <td>980.500000</td>\n",
       "      <td>977.100000</td>\n",
       "      <td>0.000000</td>\n",
       "      <td>0.000000</td>\n",
       "      <td>-0.900000</td>\n",
       "      <td>3.700000</td>\n",
       "      <td>2007.000000</td>\n",
       "      <td>1.000000</td>\n",
       "      <td>1.000000</td>\n",
       "    </tr>\n",
       "    <tr>\n",
       "      <th>25%</th>\n",
       "      <td>8.500000</td>\n",
       "      <td>18.500000</td>\n",
       "      <td>0.000000</td>\n",
       "      <td>2.800000</td>\n",
       "      <td>4.900000</td>\n",
       "      <td>31.000000</td>\n",
       "      <td>9.000000</td>\n",
       "      <td>13.00000</td>\n",
       "      <td>56.000000</td>\n",
       "      <td>36.000000</td>\n",
       "      <td>1012.800000</td>\n",
       "      <td>1010.200000</td>\n",
       "      <td>1.000000</td>\n",
       "      <td>2.000000</td>\n",
       "      <td>13.000000</td>\n",
       "      <td>17.200000</td>\n",
       "      <td>2010.000000</td>\n",
       "      <td>3.000000</td>\n",
       "      <td>8.000000</td>\n",
       "    </tr>\n",
       "    <tr>\n",
       "      <th>50%</th>\n",
       "      <td>13.100000</td>\n",
       "      <td>23.400000</td>\n",
       "      <td>0.000000</td>\n",
       "      <td>4.800000</td>\n",
       "      <td>8.500000</td>\n",
       "      <td>39.000000</td>\n",
       "      <td>13.000000</td>\n",
       "      <td>19.00000</td>\n",
       "      <td>68.000000</td>\n",
       "      <td>51.000000</td>\n",
       "      <td>1017.300000</td>\n",
       "      <td>1014.900000</td>\n",
       "      <td>5.000000</td>\n",
       "      <td>5.000000</td>\n",
       "      <td>17.600000</td>\n",
       "      <td>21.900000</td>\n",
       "      <td>2012.000000</td>\n",
       "      <td>6.000000</td>\n",
       "      <td>16.000000</td>\n",
       "    </tr>\n",
       "    <tr>\n",
       "      <th>75%</th>\n",
       "      <td>18.100000</td>\n",
       "      <td>29.300000</td>\n",
       "      <td>0.800000</td>\n",
       "      <td>7.400000</td>\n",
       "      <td>10.600000</td>\n",
       "      <td>48.000000</td>\n",
       "      <td>20.000000</td>\n",
       "      <td>24.00000</td>\n",
       "      <td>80.000000</td>\n",
       "      <td>64.000000</td>\n",
       "      <td>1022.000000</td>\n",
       "      <td>1019.600000</td>\n",
       "      <td>7.000000</td>\n",
       "      <td>7.000000</td>\n",
       "      <td>22.900000</td>\n",
       "      <td>27.500000</td>\n",
       "      <td>2014.000000</td>\n",
       "      <td>9.000000</td>\n",
       "      <td>23.000000</td>\n",
       "    </tr>\n",
       "    <tr>\n",
       "      <th>max</th>\n",
       "      <td>31.400000</td>\n",
       "      <td>48.100000</td>\n",
       "      <td>206.200000</td>\n",
       "      <td>81.200000</td>\n",
       "      <td>14.500000</td>\n",
       "      <td>124.000000</td>\n",
       "      <td>67.000000</td>\n",
       "      <td>76.00000</td>\n",
       "      <td>100.000000</td>\n",
       "      <td>100.000000</td>\n",
       "      <td>1040.900000</td>\n",
       "      <td>1038.900000</td>\n",
       "      <td>9.000000</td>\n",
       "      <td>9.000000</td>\n",
       "      <td>39.400000</td>\n",
       "      <td>46.100000</td>\n",
       "      <td>2017.000000</td>\n",
       "      <td>12.000000</td>\n",
       "      <td>31.000000</td>\n",
       "    </tr>\n",
       "  </tbody>\n",
       "</table>\n",
       "</div>"
      ],
      "text/plain": [
       "            MinTemp       MaxTemp      Rainfall   Evaporation      Sunshine  \\\n",
       "count  62294.000000  62294.000000  62294.000000  62294.000000  62294.000000   \n",
       "mean      13.320545     23.940874      2.141139      5.377068      7.647690   \n",
       "std        6.372635      6.890906      6.949013      3.642557      3.763977   \n",
       "min       -6.700000      4.100000      0.000000      0.000000      0.000000   \n",
       "25%        8.500000     18.500000      0.000000      2.800000      4.900000   \n",
       "50%       13.100000     23.400000      0.000000      4.800000      8.500000   \n",
       "75%       18.100000     29.300000      0.800000      7.400000     10.600000   \n",
       "max       31.400000     48.100000    206.200000     81.200000     14.500000   \n",
       "\n",
       "       WindGustSpeed  WindSpeed9am  WindSpeed3pm   Humidity9am   Humidity3pm  \\\n",
       "count   62294.000000  62294.000000   62294.00000  62294.000000  62294.000000   \n",
       "mean       40.453013     15.108678      19.54262     66.563168     50.460430   \n",
       "std        12.975827      8.628194       8.62582     18.421690     20.204592   \n",
       "min         9.000000      0.000000       0.00000      0.000000      0.000000   \n",
       "25%        31.000000      9.000000      13.00000     56.000000     36.000000   \n",
       "50%        39.000000     13.000000      19.00000     68.000000     51.000000   \n",
       "75%        48.000000     20.000000      24.00000     80.000000     64.000000   \n",
       "max       124.000000     67.000000      76.00000    100.000000    100.000000   \n",
       "\n",
       "        Pressure9am   Pressure3pm      Cloud9am      Cloud3pm       Temp9am  \\\n",
       "count  62294.000000  62294.000000  62294.000000  62294.000000  62294.000000   \n",
       "mean    1017.385758   1014.958921      4.279577      4.344544     17.991362   \n",
       "std        6.957664      6.921487      2.802830      2.651058      6.509657   \n",
       "min      980.500000    977.100000      0.000000      0.000000     -0.900000   \n",
       "25%     1012.800000   1010.200000      1.000000      2.000000     13.000000   \n",
       "50%     1017.300000   1014.900000      5.000000      5.000000     17.600000   \n",
       "75%     1022.000000   1019.600000      7.000000      7.000000     22.900000   \n",
       "max     1040.900000   1038.900000      9.000000      9.000000     39.400000   \n",
       "\n",
       "            Temp3pm          Year         Month           Day  \n",
       "count  62294.000000  62294.000000  62294.000000  62294.000000  \n",
       "mean      22.436782   2012.136899      6.409975     15.722959  \n",
       "std        6.752409      2.449623      3.422503      8.790760  \n",
       "min        3.700000   2007.000000      1.000000      1.000000  \n",
       "25%       17.200000   2010.000000      3.000000      8.000000  \n",
       "50%       21.900000   2012.000000      6.000000     16.000000  \n",
       "75%       27.500000   2014.000000      9.000000     23.000000  \n",
       "max       46.100000   2017.000000     12.000000     31.000000  "
      ]
     },
     "execution_count": 25,
     "metadata": {},
     "output_type": "execute_result"
    }
   ],
   "source": [
    "data.describe() # Before Handle Outliers"
   ]
  },
  {
   "cell_type": "code",
   "execution_count": 26,
   "id": "0dbfd7a6",
   "metadata": {},
   "outputs": [],
   "source": [
    "more_than = data > maximum\n",
    "lower_than = data < minimum"
   ]
  },
  {
   "cell_type": "markdown",
   "id": "6ad261b8",
   "metadata": {},
   "source": [
    "Mendeklarasikan bahwa data yang melebih dari nilai maksimum pada IQR maka akan dinyatakan sebagai nilai <b>lebih dari</b>. Dan sebaliknya, data yang dibawah dari nilai mininum IQR akan dinyatakan sebagai nilai <b>kurang dari</b>."
   ]
  },
  {
   "cell_type": "code",
   "execution_count": 27,
   "id": "071dd772",
   "metadata": {},
   "outputs": [],
   "source": [
    "data = data.mask(more_than, maximum, axis=1)\n",
    "data = data.mask(lower_than, minimum, axis=1)"
   ]
  },
  {
   "cell_type": "markdown",
   "id": "16ea238b",
   "metadata": {},
   "source": [
    "Data yang memiliki nilai lebih dari atau kurang dari (outlier) maka nilainya akan diganti menjadi nilai maksimum dalam IQR."
   ]
  },
  {
   "cell_type": "code",
   "execution_count": 28,
   "id": "f76938fd",
   "metadata": {},
   "outputs": [
    {
     "data": {
      "text/html": [
       "<div>\n",
       "<style scoped>\n",
       "    .dataframe tbody tr th:only-of-type {\n",
       "        vertical-align: middle;\n",
       "    }\n",
       "\n",
       "    .dataframe tbody tr th {\n",
       "        vertical-align: top;\n",
       "    }\n",
       "\n",
       "    .dataframe thead th {\n",
       "        text-align: right;\n",
       "    }\n",
       "</style>\n",
       "<table border=\"1\" class=\"dataframe\">\n",
       "  <thead>\n",
       "    <tr style=\"text-align: right;\">\n",
       "      <th></th>\n",
       "      <th>MinTemp</th>\n",
       "      <th>MaxTemp</th>\n",
       "      <th>Rainfall</th>\n",
       "      <th>Evaporation</th>\n",
       "      <th>Sunshine</th>\n",
       "      <th>WindGustSpeed</th>\n",
       "      <th>WindSpeed9am</th>\n",
       "      <th>WindSpeed3pm</th>\n",
       "      <th>Humidity9am</th>\n",
       "      <th>Humidity3pm</th>\n",
       "      <th>Pressure9am</th>\n",
       "      <th>Pressure3pm</th>\n",
       "      <th>Cloud9am</th>\n",
       "      <th>Cloud3pm</th>\n",
       "      <th>Temp9am</th>\n",
       "      <th>Temp3pm</th>\n",
       "      <th>Year</th>\n",
       "      <th>Month</th>\n",
       "      <th>Day</th>\n",
       "    </tr>\n",
       "  </thead>\n",
       "  <tbody>\n",
       "    <tr>\n",
       "      <th>count</th>\n",
       "      <td>62294.000000</td>\n",
       "      <td>62294.000000</td>\n",
       "      <td>62294.000000</td>\n",
       "      <td>62294.000000</td>\n",
       "      <td>62294.000000</td>\n",
       "      <td>62294.000000</td>\n",
       "      <td>62294.000000</td>\n",
       "      <td>62294.000000</td>\n",
       "      <td>62294.000000</td>\n",
       "      <td>62294.000000</td>\n",
       "      <td>62294.000000</td>\n",
       "      <td>62294.000000</td>\n",
       "      <td>62294.000000</td>\n",
       "      <td>62294.000000</td>\n",
       "      <td>62294.000000</td>\n",
       "      <td>62294.000000</td>\n",
       "      <td>62294.000000</td>\n",
       "      <td>62294.000000</td>\n",
       "      <td>62294.000000</td>\n",
       "    </tr>\n",
       "    <tr>\n",
       "      <th>mean</th>\n",
       "      <td>13.320570</td>\n",
       "      <td>23.940656</td>\n",
       "      <td>0.486519</td>\n",
       "      <td>5.302040</td>\n",
       "      <td>7.647690</td>\n",
       "      <td>40.255578</td>\n",
       "      <td>14.993739</td>\n",
       "      <td>19.458038</td>\n",
       "      <td>66.665506</td>\n",
       "      <td>50.460430</td>\n",
       "      <td>1017.405997</td>\n",
       "      <td>1014.972974</td>\n",
       "      <td>4.279577</td>\n",
       "      <td>4.344544</td>\n",
       "      <td>17.991269</td>\n",
       "      <td>22.436174</td>\n",
       "      <td>2012.136899</td>\n",
       "      <td>6.409975</td>\n",
       "      <td>15.722959</td>\n",
       "    </tr>\n",
       "    <tr>\n",
       "      <th>std</th>\n",
       "      <td>6.372556</td>\n",
       "      <td>6.890201</td>\n",
       "      <td>0.792504</td>\n",
       "      <td>3.285603</td>\n",
       "      <td>3.763977</td>\n",
       "      <td>12.327858</td>\n",
       "      <td>8.259229</td>\n",
       "      <td>8.368470</td>\n",
       "      <td>18.134973</td>\n",
       "      <td>20.204592</td>\n",
       "      <td>6.866337</td>\n",
       "      <td>6.851777</td>\n",
       "      <td>2.802830</td>\n",
       "      <td>2.651058</td>\n",
       "      <td>6.509365</td>\n",
       "      <td>6.750464</td>\n",
       "      <td>2.449623</td>\n",
       "      <td>3.422503</td>\n",
       "      <td>8.790760</td>\n",
       "    </tr>\n",
       "    <tr>\n",
       "      <th>min</th>\n",
       "      <td>-5.900000</td>\n",
       "      <td>4.100000</td>\n",
       "      <td>0.000000</td>\n",
       "      <td>0.000000</td>\n",
       "      <td>0.000000</td>\n",
       "      <td>9.000000</td>\n",
       "      <td>0.000000</td>\n",
       "      <td>0.000000</td>\n",
       "      <td>20.000000</td>\n",
       "      <td>0.000000</td>\n",
       "      <td>999.000000</td>\n",
       "      <td>996.100000</td>\n",
       "      <td>0.000000</td>\n",
       "      <td>0.000000</td>\n",
       "      <td>-0.900000</td>\n",
       "      <td>3.700000</td>\n",
       "      <td>2007.000000</td>\n",
       "      <td>1.000000</td>\n",
       "      <td>1.000000</td>\n",
       "    </tr>\n",
       "    <tr>\n",
       "      <th>25%</th>\n",
       "      <td>8.500000</td>\n",
       "      <td>18.500000</td>\n",
       "      <td>0.000000</td>\n",
       "      <td>2.800000</td>\n",
       "      <td>4.900000</td>\n",
       "      <td>31.000000</td>\n",
       "      <td>9.000000</td>\n",
       "      <td>13.000000</td>\n",
       "      <td>56.000000</td>\n",
       "      <td>36.000000</td>\n",
       "      <td>1012.800000</td>\n",
       "      <td>1010.200000</td>\n",
       "      <td>1.000000</td>\n",
       "      <td>2.000000</td>\n",
       "      <td>13.000000</td>\n",
       "      <td>17.200000</td>\n",
       "      <td>2010.000000</td>\n",
       "      <td>3.000000</td>\n",
       "      <td>8.000000</td>\n",
       "    </tr>\n",
       "    <tr>\n",
       "      <th>50%</th>\n",
       "      <td>13.100000</td>\n",
       "      <td>23.400000</td>\n",
       "      <td>0.000000</td>\n",
       "      <td>4.800000</td>\n",
       "      <td>8.500000</td>\n",
       "      <td>39.000000</td>\n",
       "      <td>13.000000</td>\n",
       "      <td>19.000000</td>\n",
       "      <td>68.000000</td>\n",
       "      <td>51.000000</td>\n",
       "      <td>1017.300000</td>\n",
       "      <td>1014.900000</td>\n",
       "      <td>5.000000</td>\n",
       "      <td>5.000000</td>\n",
       "      <td>17.600000</td>\n",
       "      <td>21.900000</td>\n",
       "      <td>2012.000000</td>\n",
       "      <td>6.000000</td>\n",
       "      <td>16.000000</td>\n",
       "    </tr>\n",
       "    <tr>\n",
       "      <th>75%</th>\n",
       "      <td>18.100000</td>\n",
       "      <td>29.300000</td>\n",
       "      <td>0.800000</td>\n",
       "      <td>7.400000</td>\n",
       "      <td>10.600000</td>\n",
       "      <td>48.000000</td>\n",
       "      <td>20.000000</td>\n",
       "      <td>24.000000</td>\n",
       "      <td>80.000000</td>\n",
       "      <td>64.000000</td>\n",
       "      <td>1022.000000</td>\n",
       "      <td>1019.600000</td>\n",
       "      <td>7.000000</td>\n",
       "      <td>7.000000</td>\n",
       "      <td>22.900000</td>\n",
       "      <td>27.500000</td>\n",
       "      <td>2014.000000</td>\n",
       "      <td>9.000000</td>\n",
       "      <td>23.000000</td>\n",
       "    </tr>\n",
       "    <tr>\n",
       "      <th>max</th>\n",
       "      <td>31.400000</td>\n",
       "      <td>45.500000</td>\n",
       "      <td>2.000000</td>\n",
       "      <td>14.300000</td>\n",
       "      <td>14.500000</td>\n",
       "      <td>73.500000</td>\n",
       "      <td>36.500000</td>\n",
       "      <td>40.500000</td>\n",
       "      <td>100.000000</td>\n",
       "      <td>100.000000</td>\n",
       "      <td>1035.800000</td>\n",
       "      <td>1033.700000</td>\n",
       "      <td>9.000000</td>\n",
       "      <td>9.000000</td>\n",
       "      <td>37.750000</td>\n",
       "      <td>42.950000</td>\n",
       "      <td>2017.000000</td>\n",
       "      <td>12.000000</td>\n",
       "      <td>31.000000</td>\n",
       "    </tr>\n",
       "  </tbody>\n",
       "</table>\n",
       "</div>"
      ],
      "text/plain": [
       "            MinTemp       MaxTemp      Rainfall   Evaporation      Sunshine  \\\n",
       "count  62294.000000  62294.000000  62294.000000  62294.000000  62294.000000   \n",
       "mean      13.320570     23.940656      0.486519      5.302040      7.647690   \n",
       "std        6.372556      6.890201      0.792504      3.285603      3.763977   \n",
       "min       -5.900000      4.100000      0.000000      0.000000      0.000000   \n",
       "25%        8.500000     18.500000      0.000000      2.800000      4.900000   \n",
       "50%       13.100000     23.400000      0.000000      4.800000      8.500000   \n",
       "75%       18.100000     29.300000      0.800000      7.400000     10.600000   \n",
       "max       31.400000     45.500000      2.000000     14.300000     14.500000   \n",
       "\n",
       "       WindGustSpeed  WindSpeed9am  WindSpeed3pm   Humidity9am   Humidity3pm  \\\n",
       "count   62294.000000  62294.000000  62294.000000  62294.000000  62294.000000   \n",
       "mean       40.255578     14.993739     19.458038     66.665506     50.460430   \n",
       "std        12.327858      8.259229      8.368470     18.134973     20.204592   \n",
       "min         9.000000      0.000000      0.000000     20.000000      0.000000   \n",
       "25%        31.000000      9.000000     13.000000     56.000000     36.000000   \n",
       "50%        39.000000     13.000000     19.000000     68.000000     51.000000   \n",
       "75%        48.000000     20.000000     24.000000     80.000000     64.000000   \n",
       "max        73.500000     36.500000     40.500000    100.000000    100.000000   \n",
       "\n",
       "        Pressure9am   Pressure3pm      Cloud9am      Cloud3pm       Temp9am  \\\n",
       "count  62294.000000  62294.000000  62294.000000  62294.000000  62294.000000   \n",
       "mean    1017.405997   1014.972974      4.279577      4.344544     17.991269   \n",
       "std        6.866337      6.851777      2.802830      2.651058      6.509365   \n",
       "min      999.000000    996.100000      0.000000      0.000000     -0.900000   \n",
       "25%     1012.800000   1010.200000      1.000000      2.000000     13.000000   \n",
       "50%     1017.300000   1014.900000      5.000000      5.000000     17.600000   \n",
       "75%     1022.000000   1019.600000      7.000000      7.000000     22.900000   \n",
       "max     1035.800000   1033.700000      9.000000      9.000000     37.750000   \n",
       "\n",
       "            Temp3pm          Year         Month           Day  \n",
       "count  62294.000000  62294.000000  62294.000000  62294.000000  \n",
       "mean      22.436174   2012.136899      6.409975     15.722959  \n",
       "std        6.750464      2.449623      3.422503      8.790760  \n",
       "min        3.700000   2007.000000      1.000000      1.000000  \n",
       "25%       17.200000   2010.000000      3.000000      8.000000  \n",
       "50%       21.900000   2012.000000      6.000000     16.000000  \n",
       "75%       27.500000   2014.000000      9.000000     23.000000  \n",
       "max       42.950000   2017.000000     12.000000     31.000000  "
      ]
     },
     "execution_count": 28,
     "metadata": {},
     "output_type": "execute_result"
    }
   ],
   "source": [
    "data.describe()"
   ]
  },
  {
   "cell_type": "code",
   "execution_count": 29,
   "id": "ec1594af",
   "metadata": {},
   "outputs": [
    {
     "data": {
      "image/png": "[encoded data removed]",
      "text/plain": [
       "<Figure size 432x288 with 1 Axes>"
      ]
     },
     "metadata": {
      "needs_background": "light"
     },
     "output_type": "display_data"
    },
    {
     "data": {
      "image/png": "[encoded data removed]",
      "text/plain": [
       "<Figure size 432x288 with 1 Axes>"
      ]
     },
     "metadata": {
      "needs_background": "light"
     },
     "output_type": "display_data"
    },
    {
     "data": {
      "image/png": "[encoded data removed]",
      "text/plain": [
       "<Figure size 432x288 with 1 Axes>"
      ]
     },
     "metadata": {
      "needs_background": "light"
     },
     "output_type": "display_data"
    },
    {
     "data": {
      "image/png": "[encoded data removed]",
      "text/plain": [
       "<Figure size 432x288 with 1 Axes>"
      ]
     },
     "metadata": {
      "needs_background": "light"
     },
     "output_type": "display_data"
    },
    {
     "data": {
      "image/png": "[encoded data removed]",
      "text/plain": [
       "<Figure size 432x288 with 1 Axes>"
      ]
     },
     "metadata": {
      "needs_background": "light"
     },
     "output_type": "display_data"
    },
    {
     "data": {
      "image/png": "[encoded data removed]",
      "text/plain": [
       "<Figure size 432x288 with 1 Axes>"
      ]
     },
     "metadata": {
      "needs_background": "light"
     },
     "output_type": "display_data"
    },
    {
     "data": {
      "image/png": "[encoded data removed]",
      "text/plain": [
       "<Figure size 432x288 with 1 Axes>"
      ]
     },
     "metadata": {
      "needs_background": "light"
     },
     "output_type": "display_data"
    },
    {
     "data": {
      "image/png": "[encoded data removed]",
      "text/plain": [
       "<Figure size 432x288 with 1 Axes>"
      ]
     },
     "metadata": {
      "needs_background": "light"
     },
     "output_type": "display_data"
    },
    {
     "data": {
      "image/png": "[encoded data removed]",
      "text/plain": [
       "<Figure size 432x288 with 1 Axes>"
      ]
     },
     "metadata": {
      "needs_background": "light"
     },
     "output_type": "display_data"
    },
    {
     "data": {
      "image/png": "[encoded data removed]",
      "text/plain": [
       "<Figure size 432x288 with 1 Axes>"
      ]
     },
     "metadata": {
      "needs_background": "light"
     },
     "output_type": "display_data"
    },
    {
     "data": {
      "image/png": "[encoded data removed]",
      "text/plain": [
       "<Figure size 432x288 with 1 Axes>"
      ]
     },
     "metadata": {
      "needs_background": "light"
     },
     "output_type": "display_data"
    },
    {
     "data": {
      "image/png": "[encoded data removed]",
      "text/plain": [
       "<Figure size 432x288 with 1 Axes>"
      ]
     },
     "metadata": {
      "needs_background": "light"
     },
     "output_type": "display_data"
    },
    {
     "data": {
      "image/png": "[encoded data removed]",
      "text/plain": [
       "<Figure size 432x288 with 1 Axes>"
      ]
     },
     "metadata": {
      "needs_background": "light"
     },
     "output_type": "display_data"
    },
    {
     "data": {
      "image/png": "[encoded data removed]",
      "text/plain": [
       "<Figure size 432x288 with 1 Axes>"
      ]
     },
     "metadata": {
      "needs_background": "light"
     },
     "output_type": "display_data"
    },
    {
     "data": {
      "image/png": "[encoded data removed]",
      "text/plain": [
       "<Figure size 432x288 with 1 Axes>"
      ]
     },
     "metadata": {
      "needs_background": "light"
     },
     "output_type": "display_data"
    },
    {
     "data": {
      "image/png": "[encoded data removed]",
      "text/plain": [
       "<Figure size 432x288 with 1 Axes>"
      ]
     },
     "metadata": {
      "needs_background": "light"
     },
     "output_type": "display_data"
    }
   ],
   "source": [
    "for col in data.select_dtypes(include=float).columns:\n",
    "    plt.figure()\n",
    "    sns.boxplot(x=data[col])\n",
    "plt.show()"
   ]
  },
  {
   "cell_type": "markdown",
   "id": "d6efb60f",
   "metadata": {},
   "source": [
    "Maka setelah di cek kembali melalui visualisasi boxplot, tidak ada outlier lagi."
   ]
  },
  {
   "cell_type": "markdown",
   "id": "b1d322bb",
   "metadata": {},
   "source": [
    "## Exploratory Data Analysis"
   ]
  },
  {
   "cell_type": "code",
   "execution_count": 30,
   "id": "5a2216fa",
   "metadata": {},
   "outputs": [],
   "source": [
    "import matplotlib as mpl\n",
    "import matplotlib.pyplot as plt\n",
    "import seaborn as sns\n",
    "\n",
    "mpl.style.use(['ggplot'])"
   ]
  },
  {
   "cell_type": "markdown",
   "id": "458cbe1f",
   "metadata": {},
   "source": [
    "### Lokasi paling sering hujan"
   ]
  },
  {
   "cell_type": "code",
   "execution_count": 31,
   "id": "b43c0d07",
   "metadata": {},
   "outputs": [],
   "source": [
    "five_location_rain = pd.DataFrame((data['RainToday'] == 'Yes').groupby(data['Location']).sum().sort_values(ascending=False)).head()"
   ]
  },
  {
   "cell_type": "code",
   "execution_count": 32,
   "id": "e35193a9",
   "metadata": {},
   "outputs": [
    {
     "data": {
      "text/html": [
       "<div>\n",
       "<style scoped>\n",
       "    .dataframe tbody tr th:only-of-type {\n",
       "        vertical-align: middle;\n",
       "    }\n",
       "\n",
       "    .dataframe tbody tr th {\n",
       "        vertical-align: top;\n",
       "    }\n",
       "\n",
       "    .dataframe thead th {\n",
       "        text-align: right;\n",
       "    }\n",
       "</style>\n",
       "<table border=\"1\" class=\"dataframe\">\n",
       "  <thead>\n",
       "    <tr style=\"text-align: right;\">\n",
       "      <th></th>\n",
       "      <th>RainToday</th>\n",
       "    </tr>\n",
       "    <tr>\n",
       "      <th>Location</th>\n",
       "      <th></th>\n",
       "    </tr>\n",
       "  </thead>\n",
       "  <tbody>\n",
       "    <tr>\n",
       "      <th>Portland</th>\n",
       "      <td>840</td>\n",
       "    </tr>\n",
       "    <tr>\n",
       "      <th>Darwin</th>\n",
       "      <td>814</td>\n",
       "    </tr>\n",
       "    <tr>\n",
       "      <th>Cairns</th>\n",
       "      <td>765</td>\n",
       "    </tr>\n",
       "    <tr>\n",
       "      <th>MountGambier</th>\n",
       "      <td>756</td>\n",
       "    </tr>\n",
       "    <tr>\n",
       "      <th>NorfolkIsland</th>\n",
       "      <td>755</td>\n",
       "    </tr>\n",
       "  </tbody>\n",
       "</table>\n",
       "</div>"
      ],
      "text/plain": [
       "               RainToday\n",
       "Location                \n",
       "Portland             840\n",
       "Darwin               814\n",
       "Cairns               765\n",
       "MountGambier         756\n",
       "NorfolkIsland        755"
      ]
     },
     "execution_count": 32,
     "metadata": {},
     "output_type": "execute_result"
    }
   ],
   "source": [
    "five_location_rain"
   ]
  },
  {
   "cell_type": "code",
   "execution_count": 33,
   "id": "f75374a8",
   "metadata": {},
   "outputs": [
    {
     "data": {
      "text/plain": [
       "Text(0.5, 1.0, '5 locations with the most rain in 10 years')"
      ]
     },
     "execution_count": 33,
     "metadata": {},
     "output_type": "execute_result"
    },
    {
     "data": {
      "image/png": "[encoded data removed]",
      "text/plain": [
       "<Figure size 576x288 with 1 Axes>"
      ]
     },
     "metadata": {},
     "output_type": "display_data"
    }
   ],
   "source": [
    "five_location_rain.plot(kind='bar',\n",
    "                        figsize=(8, 4),\n",
    "                        color='steelblue')\n",
    "\n",
    "plt.ylabel('Number of Rain \"Yes\"')\n",
    "plt.title('5 locations with the most rain in 10 years')"
   ]
  },
  {
   "cell_type": "markdown",
   "id": "a1a2b060",
   "metadata": {},
   "source": [
    "Pada data diatas, terlihat 5 tempat paling sering ujan di Australia dalam 10 tahun. Pada peringkat pertama ada Portland dengan total 840 dan diikuti oleh Kota Darwin dengan 814 kali hujan."
   ]
  },
  {
   "cell_type": "markdown",
   "id": "b93d4289",
   "metadata": {},
   "source": [
    "### Distribusi RainTomorrow"
   ]
  },
  {
   "cell_type": "code",
   "execution_count": 34,
   "id": "aa46d520",
   "metadata": {},
   "outputs": [
    {
     "data": {
      "image/png": "[encoded data removed]",
      "text/plain": [
       "<Figure size 720x360 with 1 Axes>"
      ]
     },
     "metadata": {},
     "output_type": "display_data"
    }
   ],
   "source": [
    "plt.figure(figsize=(10, 5))\n",
    "\n",
    "sns.countplot(x='RainTomorrow', data=data)\n",
    "plt.title('Rain Tomorrow')\n",
    "\n",
    "plt.show()"
   ]
  },
  {
   "cell_type": "code",
   "execution_count": 35,
   "id": "a8f72980",
   "metadata": {},
   "outputs": [
    {
     "data": {
      "text/plain": [
       "No     48385\n",
       "Yes    13909\n",
       "Name: RainTomorrow, dtype: int64"
      ]
     },
     "execution_count": 35,
     "metadata": {},
     "output_type": "execute_result"
    }
   ],
   "source": [
    "data['RainTomorrow'].value_counts()"
   ]
  },
  {
   "cell_type": "markdown",
   "id": "58147a5b",
   "metadata": {},
   "source": [
    "Pada grafik diatas, terdapat 48383 data tidak hujan atau No, menunjukan bahwa pada kolom <b>RainTomorrow</b> terlihat jelas bahwa value No sangat banyak. Artinya, lebih banyak tidak hujan pada keesokannya daripada hujan."
   ]
  },
  {
   "cell_type": "markdown",
   "id": "aaee4c24",
   "metadata": {},
   "source": [
    "### Distribusi Curah Hujan"
   ]
  },
  {
   "cell_type": "code",
   "execution_count": 36,
   "id": "569d5ce1",
   "metadata": {},
   "outputs": [
    {
     "data": {
      "text/plain": [
       "<AxesSubplot:xlabel='Day', ylabel='Rainfall'>"
      ]
     },
     "execution_count": 36,
     "metadata": {},
     "output_type": "execute_result"
    },
    {
     "data": {
      "image/png": "[encoded data removed]",
      "text/plain": [
       "<Figure size 1440x360 with 3 Axes>"
      ]
     },
     "metadata": {},
     "output_type": "display_data"
    }
   ],
   "source": [
    "plt.figure(figsize=(20, 5))\n",
    "\n",
    "plt.subplot(2, 3, 1)\n",
    "sns.lineplot(x='Year', y='Rainfall', hue='RainTomorrow', data=data)\n",
    "\n",
    "plt.subplot(2, 3, 2)\n",
    "sns.lineplot(x='Month', y='Rainfall', hue='RainTomorrow', data=data)\n",
    "\n",
    "plt.subplot(2, 3, 3)\n",
    "sns.lineplot(x='Day', y='Rainfall', hue='RainTomorrow', data=data)"
   ]
  },
  {
   "cell_type": "markdown",
   "id": "ec4c3786",
   "metadata": {},
   "source": [
    "Grafik diatas menunjukan distribusi curah hujan mulai dari tahun, bulan, hari."
   ]
  },
  {
   "cell_type": "markdown",
   "id": "7c5dd220",
   "metadata": {},
   "source": [
    "## Data Preprocessing"
   ]
  },
  {
   "cell_type": "code",
   "execution_count": 37,
   "id": "98824681",
   "metadata": {},
   "outputs": [],
   "source": [
    "data.drop(columns=['Date', 'Year', 'Month', 'Day'], inplace=True)"
   ]
  },
  {
   "cell_type": "code",
   "execution_count": 38,
   "id": "83f276a7",
   "metadata": {},
   "outputs": [],
   "source": [
    "from sklearn.preprocessing import LabelEncoder"
   ]
  },
  {
   "cell_type": "code",
   "execution_count": 39,
   "id": "4e7242b7",
   "metadata": {},
   "outputs": [
    {
     "data": {
      "text/html": [
       "<div>\n",
       "<style scoped>\n",
       "    .dataframe tbody tr th:only-of-type {\n",
       "        vertical-align: middle;\n",
       "    }\n",
       "\n",
       "    .dataframe tbody tr th {\n",
       "        vertical-align: top;\n",
       "    }\n",
       "\n",
       "    .dataframe thead th {\n",
       "        text-align: right;\n",
       "    }\n",
       "</style>\n",
       "<table border=\"1\" class=\"dataframe\">\n",
       "  <thead>\n",
       "    <tr style=\"text-align: right;\">\n",
       "      <th></th>\n",
       "      <th>Location</th>\n",
       "      <th>MinTemp</th>\n",
       "      <th>MaxTemp</th>\n",
       "      <th>Rainfall</th>\n",
       "      <th>Evaporation</th>\n",
       "      <th>Sunshine</th>\n",
       "      <th>WindGustDir</th>\n",
       "      <th>WindGustSpeed</th>\n",
       "      <th>WindDir9am</th>\n",
       "      <th>WindDir3pm</th>\n",
       "      <th>WindSpeed9am</th>\n",
       "      <th>WindSpeed3pm</th>\n",
       "      <th>Humidity9am</th>\n",
       "      <th>Humidity3pm</th>\n",
       "      <th>Pressure9am</th>\n",
       "      <th>Pressure3pm</th>\n",
       "      <th>Cloud9am</th>\n",
       "      <th>Cloud3pm</th>\n",
       "      <th>Temp9am</th>\n",
       "      <th>Temp3pm</th>\n",
       "      <th>RainToday</th>\n",
       "      <th>RainTomorrow</th>\n",
       "    </tr>\n",
       "  </thead>\n",
       "  <tbody>\n",
       "    <tr>\n",
       "      <th>6049</th>\n",
       "      <td>Cobar</td>\n",
       "      <td>17.9</td>\n",
       "      <td>35.2</td>\n",
       "      <td>0.0</td>\n",
       "      <td>12.0</td>\n",
       "      <td>12.3</td>\n",
       "      <td>SSW</td>\n",
       "      <td>48.0</td>\n",
       "      <td>ENE</td>\n",
       "      <td>SW</td>\n",
       "      <td>6.0</td>\n",
       "      <td>20.0</td>\n",
       "      <td>20.0</td>\n",
       "      <td>13.0</td>\n",
       "      <td>1006.3</td>\n",
       "      <td>1004.4</td>\n",
       "      <td>2.0</td>\n",
       "      <td>5.0</td>\n",
       "      <td>26.6</td>\n",
       "      <td>33.4</td>\n",
       "      <td>No</td>\n",
       "      <td>No</td>\n",
       "    </tr>\n",
       "    <tr>\n",
       "      <th>6050</th>\n",
       "      <td>Cobar</td>\n",
       "      <td>18.4</td>\n",
       "      <td>28.9</td>\n",
       "      <td>0.0</td>\n",
       "      <td>14.3</td>\n",
       "      <td>13.0</td>\n",
       "      <td>S</td>\n",
       "      <td>37.0</td>\n",
       "      <td>SSE</td>\n",
       "      <td>SSE</td>\n",
       "      <td>19.0</td>\n",
       "      <td>19.0</td>\n",
       "      <td>30.0</td>\n",
       "      <td>8.0</td>\n",
       "      <td>1012.9</td>\n",
       "      <td>1012.1</td>\n",
       "      <td>1.0</td>\n",
       "      <td>1.0</td>\n",
       "      <td>20.3</td>\n",
       "      <td>27.0</td>\n",
       "      <td>No</td>\n",
       "      <td>No</td>\n",
       "    </tr>\n",
       "    <tr>\n",
       "      <th>6052</th>\n",
       "      <td>Cobar</td>\n",
       "      <td>19.4</td>\n",
       "      <td>37.6</td>\n",
       "      <td>0.0</td>\n",
       "      <td>10.8</td>\n",
       "      <td>10.6</td>\n",
       "      <td>NNE</td>\n",
       "      <td>46.0</td>\n",
       "      <td>NNE</td>\n",
       "      <td>NNW</td>\n",
       "      <td>30.0</td>\n",
       "      <td>15.0</td>\n",
       "      <td>42.0</td>\n",
       "      <td>22.0</td>\n",
       "      <td>1012.3</td>\n",
       "      <td>1009.2</td>\n",
       "      <td>1.0</td>\n",
       "      <td>6.0</td>\n",
       "      <td>28.7</td>\n",
       "      <td>34.9</td>\n",
       "      <td>No</td>\n",
       "      <td>No</td>\n",
       "    </tr>\n",
       "    <tr>\n",
       "      <th>6053</th>\n",
       "      <td>Cobar</td>\n",
       "      <td>21.9</td>\n",
       "      <td>38.4</td>\n",
       "      <td>0.0</td>\n",
       "      <td>11.4</td>\n",
       "      <td>12.2</td>\n",
       "      <td>WNW</td>\n",
       "      <td>31.0</td>\n",
       "      <td>WNW</td>\n",
       "      <td>WSW</td>\n",
       "      <td>6.0</td>\n",
       "      <td>6.0</td>\n",
       "      <td>37.0</td>\n",
       "      <td>22.0</td>\n",
       "      <td>1012.7</td>\n",
       "      <td>1009.1</td>\n",
       "      <td>1.0</td>\n",
       "      <td>5.0</td>\n",
       "      <td>29.1</td>\n",
       "      <td>35.6</td>\n",
       "      <td>No</td>\n",
       "      <td>No</td>\n",
       "    </tr>\n",
       "    <tr>\n",
       "      <th>6054</th>\n",
       "      <td>Cobar</td>\n",
       "      <td>24.2</td>\n",
       "      <td>41.0</td>\n",
       "      <td>0.0</td>\n",
       "      <td>11.2</td>\n",
       "      <td>8.4</td>\n",
       "      <td>WNW</td>\n",
       "      <td>35.0</td>\n",
       "      <td>NW</td>\n",
       "      <td>WNW</td>\n",
       "      <td>17.0</td>\n",
       "      <td>13.0</td>\n",
       "      <td>20.0</td>\n",
       "      <td>15.0</td>\n",
       "      <td>1010.7</td>\n",
       "      <td>1007.4</td>\n",
       "      <td>1.0</td>\n",
       "      <td>6.0</td>\n",
       "      <td>33.6</td>\n",
       "      <td>37.6</td>\n",
       "      <td>No</td>\n",
       "      <td>No</td>\n",
       "    </tr>\n",
       "  </tbody>\n",
       "</table>\n",
       "</div>"
      ],
      "text/plain": [
       "     Location  MinTemp  MaxTemp  Rainfall  Evaporation  Sunshine WindGustDir  \\\n",
       "6049    Cobar     17.9     35.2       0.0         12.0      12.3         SSW   \n",
       "6050    Cobar     18.4     28.9       0.0         14.3      13.0           S   \n",
       "6052    Cobar     19.4     37.6       0.0         10.8      10.6         NNE   \n",
       "6053    Cobar     21.9     38.4       0.0         11.4      12.2         WNW   \n",
       "6054    Cobar     24.2     41.0       0.0         11.2       8.4         WNW   \n",
       "\n",
       "      WindGustSpeed WindDir9am WindDir3pm  WindSpeed9am  WindSpeed3pm  \\\n",
       "6049           48.0        ENE         SW           6.0          20.0   \n",
       "6050           37.0        SSE        SSE          19.0          19.0   \n",
       "6052           46.0        NNE        NNW          30.0          15.0   \n",
       "6053           31.0        WNW        WSW           6.0           6.0   \n",
       "6054           35.0         NW        WNW          17.0          13.0   \n",
       "\n",
       "      Humidity9am  Humidity3pm  Pressure9am  Pressure3pm  Cloud9am  Cloud3pm  \\\n",
       "6049         20.0         13.0       1006.3       1004.4       2.0       5.0   \n",
       "6050         30.0          8.0       1012.9       1012.1       1.0       1.0   \n",
       "6052         42.0         22.0       1012.3       1009.2       1.0       6.0   \n",
       "6053         37.0         22.0       1012.7       1009.1       1.0       5.0   \n",
       "6054         20.0         15.0       1010.7       1007.4       1.0       6.0   \n",
       "\n",
       "      Temp9am  Temp3pm RainToday RainTomorrow  \n",
       "6049     26.6     33.4        No           No  \n",
       "6050     20.3     27.0        No           No  \n",
       "6052     28.7     34.9        No           No  \n",
       "6053     29.1     35.6        No           No  \n",
       "6054     33.6     37.6        No           No  "
      ]
     },
     "execution_count": 39,
     "metadata": {},
     "output_type": "execute_result"
    }
   ],
   "source": [
    "data.head()"
   ]
  },
  {
   "cell_type": "code",
   "execution_count": 40,
   "id": "0d13fe15",
   "metadata": {},
   "outputs": [],
   "source": [
    "label = LabelEncoder()"
   ]
  },
  {
   "cell_type": "code",
   "execution_count": 41,
   "id": "ccbe476f",
   "metadata": {},
   "outputs": [],
   "source": [
    "data['RainToday'] = label.fit_transform(data['RainToday'])\n",
    "data['RainTomorrow'] = label.fit_transform(data['RainTomorrow'])"
   ]
  },
  {
   "cell_type": "markdown",
   "id": "06ea54f7",
   "metadata": {},
   "source": [
    "### Feature Selection"
   ]
  },
  {
   "cell_type": "markdown",
   "id": "8a1f35b5",
   "metadata": {},
   "source": [
    "Mari kita lihat attribute atau kolom mana saja yang hubungannya paling dekat dengan target yaitu <b>RainTomorrow</b>, disini heatmap akan digunakan untuk mempermudah pencariannya."
   ]
  },
  {
   "cell_type": "code",
   "execution_count": 42,
   "id": "a89568af",
   "metadata": {},
   "outputs": [
    {
     "data": {
      "text/plain": [
       "<AxesSubplot:>"
      ]
     },
     "execution_count": 42,
     "metadata": {},
     "output_type": "execute_result"
    },
    {
     "data": {
      "image/png": "[encoded data removed]",
      "text/plain": [
       "<Figure size 1440x360 with 2 Axes>"
      ]
     },
     "metadata": {},
     "output_type": "display_data"
    }
   ],
   "source": [
    "plt.figure(figsize=(20, 5))\n",
    "sns.heatmap(data.corr(), annot=True)"
   ]
  },
  {
   "cell_type": "markdown",
   "id": "3f0838a1",
   "metadata": {},
   "source": [
    "Dari heatmap diatas terlihat jelas\n",
    "\n",
    "1. Rainfall  = (0.33)\n",
    "2. Humidity9am = (0.27)\n",
    "3. Humidity3pm = (0.45)\n",
    "4. Cloud9am = (0.32)\n",
    "5. Cloud3pm = (0.39)\n",
    "6. RainToday = (0.31)\n",
    "7. Sunshine = (-0.45) + 78 79\n",
    "8. WindgustSpeed = (0.22) +\n",
    "9. Pressure9am = (-0.25)\n",
    "10. Pressure3pm = (-0.23)"
   ]
  },
  {
   "cell_type": "markdown",
   "id": "7825f281",
   "metadata": {},
   "source": [
    "### Final Data"
   ]
  },
  {
   "cell_type": "code",
   "execution_count": 43,
   "id": "d5ea01d0",
   "metadata": {},
   "outputs": [],
   "source": [
    "final_data = data[[\"RainTomorrow\", \"RainToday\", \"Cloud9am\", \"Cloud3pm\", \"Humidity9am\", \"Humidity3pm\", \"Rainfall\", \"Sunshine\", \"WindGustSpeed\", \"Pressure9am\", \"Pressure3pm\"]]"
   ]
  },
  {
   "cell_type": "code",
   "execution_count": 44,
   "id": "2c4b8d60",
   "metadata": {},
   "outputs": [
    {
     "data": {
      "image/png": "[encoded data removed]",
      "text/plain": [
       "<Figure size 720x360 with 1 Axes>"
      ]
     },
     "metadata": {},
     "output_type": "display_data"
    }
   ],
   "source": [
    "plt.figure(figsize=(10, 5))\n",
    "\n",
    "sns.countplot(x='RainTomorrow', data=final_data)\n",
    "plt.title('Distribusi RainTomorrow')\n",
    "\n",
    "plt.show()"
   ]
  },
  {
   "cell_type": "markdown",
   "id": "12113b12",
   "metadata": {},
   "source": [
    "### Scaling Data"
   ]
  },
  {
   "cell_type": "code",
   "execution_count": 45,
   "id": "32f0ffd0",
   "metadata": {},
   "outputs": [],
   "source": [
    "from sklearn.preprocessing import StandardScaler\n",
    "scaler = StandardScaler()"
   ]
  },
  {
   "cell_type": "code",
   "execution_count": 46,
   "id": "29b9f487",
   "metadata": {},
   "outputs": [],
   "source": [
    "X = final_data.drop(columns='RainTomorrow')\n",
    "y = final_data['RainTomorrow']"
   ]
  },
  {
   "cell_type": "code",
   "execution_count": 47,
   "id": "2a19e994",
   "metadata": {},
   "outputs": [],
   "source": [
    "X = scaler.fit_transform(X)"
   ]
  },
  {
   "cell_type": "markdown",
   "id": "81260650",
   "metadata": {},
   "source": [
    "### Resampling Data - Under Sampling\n",
    "\n",
    "Resampling dilakukan agar data seimbang. Digunakan pada dataset yang memiliki imbalanced class. Pada dataset ini, terlihat jelas pada Target <b>RainTomorrow</b> sangat berbeda jauh antara data yang hujan atau tidak. Maka dilakukan resampling menggunakan scikitlearn resample. Data dibawah ini akan dilakukan resampling dengan metode under sampling, yaitu menghapus data major agar supaya datanya balanced dengan data minor"
   ]
  },
  {
   "cell_type": "code",
   "execution_count": 48,
   "id": "3b9b50dc",
   "metadata": {},
   "outputs": [],
   "source": [
    "# import the Random Under Sampler object.\n",
    "from imblearn.under_sampling import RandomUnderSampler\n",
    "\n",
    "# create the object.\n",
    "under_sampler = RandomUnderSampler(sampling_strategy='majority', random_state=42)\n",
    "\n",
    "# fit the object to the training data.\n",
    "x_train_under, y_train_under = under_sampler.fit_resample(X, y)"
   ]
  },
  {
   "cell_type": "code",
   "execution_count": 49,
   "id": "79d309e7",
   "metadata": {},
   "outputs": [
    {
     "data": {
      "text/plain": [
       "0    13909\n",
       "1    13909\n",
       "Name: RainTomorrow, dtype: int64"
      ]
     },
     "execution_count": 49,
     "metadata": {},
     "output_type": "execute_result"
    }
   ],
   "source": [
    "y_train_under.value_counts()"
   ]
  },
  {
   "cell_type": "code",
   "execution_count": 50,
   "id": "7ba66d5f",
   "metadata": {},
   "outputs": [
    {
     "data": {
      "image/png": "[encoded data removed]",
      "text/plain": [
       "<Figure size 864x360 with 1 Axes>"
      ]
     },
     "metadata": {},
     "output_type": "display_data"
    }
   ],
   "source": [
    "plt.figure(figsize=(12, 5))\n",
    "\n",
    "plt.subplot(1, 2, 1)\n",
    "sns.countplot(x=y_train_under)\n",
    "plt.title('Hasil Undersampling')\n",
    "\n",
    "\n",
    "plt.show()"
   ]
  },
  {
   "cell_type": "markdown",
   "id": "ddc3288d",
   "metadata": {},
   "source": [
    "### Splitting Data\n",
    "Membagi data menjadi 80% untuk training dan 20% untuk testing."
   ]
  },
  {
   "cell_type": "code",
   "execution_count": 51,
   "id": "83839386",
   "metadata": {},
   "outputs": [],
   "source": [
    "from sklearn.model_selection import train_test_split"
   ]
  },
  {
   "cell_type": "code",
   "execution_count": 52,
   "id": "bef1c8bc",
   "metadata": {},
   "outputs": [],
   "source": [
    "from sklearn.model_selection import train_test_split\n",
    "X_train, X_test, y_train, y_test = train_test_split(x_train_under, y_train_under, test_size=0.2)"
   ]
  },
  {
   "cell_type": "markdown",
   "id": "d429e2f2",
   "metadata": {},
   "source": [
    "Data diatas sudah dilakukan UnderSampling dan Oversampling, <b>Undersampling</b> yaitu membuat data yang major untuk mengikuti data yang minor dengan cara menghapus data secara random agar data menjadi balanced. Sedangkan <b>Oversampling</b> kebalikannya dari undersampling. Membuat data yang minor untuk mengikuti data yang major, dengan cara menambahkan duplikasi data. Hal ini dilakukan agar pada saat modeling tidak terjadi bias yang dikarenakan imbalanced class."
   ]
  },
  {
   "cell_type": "markdown",
   "id": "5d01ee1f",
   "metadata": {},
   "source": [
    "## Modeling\n",
    "Pada modelling kali ini kita akan membandingkan antara algoritma Logistic Regression dengan Support Vector Machine (SVM) untuk melakukan prediksi terkait \"Apakah besok hujan?\""
   ]
  },
  {
   "cell_type": "code",
   "execution_count": 53,
   "id": "2217727f",
   "metadata": {},
   "outputs": [],
   "source": [
    "# Modeling\n",
    "from sklearn.linear_model import LogisticRegression\n",
    "from sklearn.svm import SVC\n",
    "\n",
    "# Evaluation\n",
    "from sklearn.metrics import accuracy_score\n",
    "from sklearn.metrics import confusion_matrix, classification_report\n",
    "from sklearn.metrics import roc_curve, auc"
   ]
  },
  {
   "cell_type": "markdown",
   "id": "eacbf442",
   "metadata": {},
   "source": [
    "### Logistic Regression"
   ]
  },
  {
   "cell_type": "code",
   "execution_count": 54,
   "id": "071ae6f9",
   "metadata": {},
   "outputs": [
    {
     "name": "stdout",
     "output_type": "stream",
     "text": [
      "Accuracy Score:  0.8026599568655644\n",
      "[[2282  533]\n",
      " [ 565 2184]]\n",
      "              precision    recall  f1-score   support\n",
      "\n",
      "           0       0.80      0.81      0.81      2815\n",
      "           1       0.80      0.79      0.80      2749\n",
      "\n",
      "    accuracy                           0.80      5564\n",
      "   macro avg       0.80      0.80      0.80      5564\n",
      "weighted avg       0.80      0.80      0.80      5564\n",
      "\n"
     ]
    }
   ],
   "source": [
    "logres = LogisticRegression()\n",
    "logres.fit(X_train, y_train)\n",
    "\n",
    "lr_pred = logres.predict(X_test)\n",
    "\n",
    "print('Accuracy Score: ', accuracy_score(y_test, lr_pred))\n",
    "print(confusion_matrix(y_test, lr_pred))\n",
    "print(classification_report(y_test, lr_pred))"
   ]
  },
  {
   "cell_type": "markdown",
   "id": "edac566e",
   "metadata": {},
   "source": [
    "### Hyperparameters Tuning - Logistic Regression"
   ]
  },
  {
   "cell_type": "code",
   "execution_count": 55,
   "id": "c7a7c811",
   "metadata": {},
   "outputs": [],
   "source": [
    "import numpy as np\n",
    "from sklearn.model_selection import GridSearchCV\n",
    "from sklearn.metrics import roc_auc_score"
   ]
  },
  {
   "cell_type": "code",
   "execution_count": 56,
   "id": "7cfdb19f",
   "metadata": {},
   "outputs": [
    {
     "name": "stdout",
     "output_type": "stream",
     "text": [
      "Accuracy Score:  0.8026599568655644\n",
      "              precision    recall  f1-score   support\n",
      "\n",
      "           0       0.80      0.81      0.81      2815\n",
      "           1       0.80      0.79      0.80      2749\n",
      "\n",
      "    accuracy                           0.80      5564\n",
      "   macro avg       0.80      0.80      0.80      5564\n",
      "weighted avg       0.80      0.80      0.80      5564\n",
      "\n",
      "Best: 0.791273 using {'C': 1.0, 'penalty': 'l2', 'solver': 'lbfgs'}\n",
      "0.791003 (0.010767) with: {'C': 100, 'penalty': 'l2', 'solver': 'newton-cg'}\n",
      "0.791003 (0.010767) with: {'C': 100, 'penalty': 'l2', 'solver': 'lbfgs'}\n",
      "0.791093 (0.010754) with: {'C': 100, 'penalty': 'l2', 'solver': 'liblinear'}\n",
      "0.791048 (0.010800) with: {'C': 10, 'penalty': 'l2', 'solver': 'newton-cg'}\n",
      "0.791048 (0.010800) with: {'C': 10, 'penalty': 'l2', 'solver': 'lbfgs'}\n",
      "0.791048 (0.010800) with: {'C': 10, 'penalty': 'l2', 'solver': 'liblinear'}\n",
      "0.791228 (0.010675) with: {'C': 1.0, 'penalty': 'l2', 'solver': 'newton-cg'}\n",
      "0.791273 (0.010610) with: {'C': 1.0, 'penalty': 'l2', 'solver': 'lbfgs'}\n",
      "0.791273 (0.010610) with: {'C': 1.0, 'penalty': 'l2', 'solver': 'liblinear'}\n",
      "0.790554 (0.010152) with: {'C': 0.1, 'penalty': 'l2', 'solver': 'newton-cg'}\n",
      "0.790599 (0.010175) with: {'C': 0.1, 'penalty': 'l2', 'solver': 'lbfgs'}\n",
      "0.790824 (0.010358) with: {'C': 0.1, 'penalty': 'l2', 'solver': 'liblinear'}\n",
      "0.789566 (0.009697) with: {'C': 0.01, 'penalty': 'l2', 'solver': 'newton-cg'}\n",
      "0.789566 (0.009697) with: {'C': 0.01, 'penalty': 'l2', 'solver': 'lbfgs'}\n",
      "0.790060 (0.009881) with: {'C': 0.01, 'penalty': 'l2', 'solver': 'liblinear'}\n"
     ]
    }
   ],
   "source": [
    "# List Parameter yang akan diuji\n",
    "solvers = ['newton-cg', 'lbfgs', 'liblinear']\n",
    "penalty = ['l2']\n",
    "c_values = [100, 10, 1.0, 0.1, 0.01]\n",
    "\n",
    "# Define model and parameters\n",
    "hyperparameters = dict(solver=solvers, penalty=penalty, C=c_values)\n",
    "logreg = LogisticRegression()\n",
    "\n",
    "\n",
    "grid_search = GridSearchCV(estimator=logreg, param_grid=hyperparameters, n_jobs=-1, cv=10, scoring='accuracy')\n",
    "grid_result = grid_search.fit(X_train, y_train)\n",
    "\n",
    "#Prediksi menggunakan model baru\n",
    "y_pred_lr_hyper = grid_result.predict(X_test)\n",
    "\n",
    "#Check performa dari model\n",
    "print('Accuracy Score: ', accuracy_score(y_test, y_pred_lr_hyper))\n",
    "print(classification_report(y_test, y_pred_lr_hyper))\n",
    "roc_auc_score(y_test, y_pred_lr_hyper)\n",
    "\n",
    "# summarize results\n",
    "print(\"Best: %f using %s\" % (grid_result.best_score_, grid_result.best_params_))\n",
    "means = grid_result.cv_results_['mean_test_score']\n",
    "stds = grid_result.cv_results_['std_test_score']\n",
    "params = grid_result.cv_results_['params']\n",
    "for mean, stdev, param in zip(means, stds, params):\n",
    "    print(\"%f (%f) with: %r\" % (mean, stdev, param))"
   ]
  },
  {
   "cell_type": "markdown",
   "id": "75161fde",
   "metadata": {},
   "source": [
    "Disini kita mencoba melakukan hypertuning parameter pada model menggunakan GridSearch. Akurasi mulai membaik namun tidak signifikan"
   ]
  },
  {
   "cell_type": "markdown",
   "id": "d54f5b9c",
   "metadata": {},
   "source": [
    "### Support Vector Machine"
   ]
  },
  {
   "cell_type": "code",
   "execution_count": 57,
   "id": "d88fafb0",
   "metadata": {},
   "outputs": [],
   "source": [
    "# Support Vector Machine (SVM)\n",
    "svm_model = SVC(probability=True)\n",
    "svm_model.fit(X_train, y_train)\n",
    "        \n",
    "pred_svm = svm_model.predict(X_test)"
   ]
  },
  {
   "cell_type": "code",
   "execution_count": 58,
   "id": "4e123a4a",
   "metadata": {},
   "outputs": [
    {
     "name": "stdout",
     "output_type": "stream",
     "text": [
      "Accuracy Score: 0.807332854061826\n",
      "[[2259  556]\n",
      " [ 516 2233]]\n",
      "              precision    recall  f1-score   support\n",
      "\n",
      "           0       0.81      0.80      0.81      2815\n",
      "           1       0.80      0.81      0.81      2749\n",
      "\n",
      "    accuracy                           0.81      5564\n",
      "   macro avg       0.81      0.81      0.81      5564\n",
      "weighted avg       0.81      0.81      0.81      5564\n",
      "\n"
     ]
    }
   ],
   "source": [
    "print(\"Accuracy Score:\", accuracy_score(y_test, pred_svm))\n",
    "print(confusion_matrix(y_test, pred_svm))\n",
    "print(classification_report(y_test, pred_svm))"
   ]
  },
  {
   "cell_type": "markdown",
   "id": "46a9affa",
   "metadata": {},
   "source": [
    "Disini saya tidak melakukan tuning hyperparameter pada model SVM. Karena proses ini akan memakan banyak resource pada device, dan memakan waktu yang sangat lama karna sudah saya coba."
   ]
  },
  {
   "cell_type": "markdown",
   "id": "a085e4b4",
   "metadata": {},
   "source": [
    "### Evaluate Model"
   ]
  },
  {
   "cell_type": "code",
   "execution_count": 59,
   "id": "4a2c30cc",
   "metadata": {},
   "outputs": [
    {
     "name": "stdout",
     "output_type": "stream",
     "text": [
      "Logistic Regression: 0.8026599568655644\n",
      "SVM: 0.807332854061826\n"
     ]
    }
   ],
   "source": [
    "print(\"Logistic Regression:\", accuracy_score(y_test, y_pred_lr_hyper))\n",
    "print(\"SVM:\", accuracy_score(y_test, pred_svm))"
   ]
  },
  {
   "cell_type": "code",
   "execution_count": 60,
   "id": "94e53369",
   "metadata": {},
   "outputs": [
    {
     "data": {
      "image/png": "[encoded data removed]",
      "text/plain": [
       "<Figure size 432x288 with 1 Axes>"
      ]
     },
     "metadata": {},
     "output_type": "display_data"
    }
   ],
   "source": [
    "#define metrics\n",
    "y_pred_proba1 = grid_result.predict_proba(X_test)[::,1]\n",
    "fpr1, tpr1, _ = roc_curve(y_test, y_pred_proba1)\n",
    "auc1 = auc(fpr1, tpr1)\n",
    "\n",
    "y_pred_proba2 = svm_model.predict_proba(X_test)[::,1]\n",
    "fpr2, tpr2, _ = roc_curve(y_test, y_pred_proba2)\n",
    "auc2 = auc(fpr2, tpr2)\n",
    "\n",
    "#create ROC curve\n",
    "plt.plot(fpr1,tpr1, label='Logistic Regression (%0.3f)' % auc1)\n",
    "plt.plot(fpr2,tpr2, label='SVM (%0.3f)' % auc2)\n",
    "plt.ylabel('True Positive Rate')\n",
    "plt.xlabel('False Positive Rate')\n",
    "plt.legend()\n",
    "\n",
    "plt.show()"
   ]
  },
  {
   "cell_type": "markdown",
   "id": "9989d38f",
   "metadata": {},
   "source": [
    "## Predictive System"
   ]
  },
  {
   "cell_type": "markdown",
   "id": "52ac79ac",
   "metadata": {},
   "source": [
    "Data yang dibutuhkan pada input data. <br>\n",
    "final_data = \"RainToday\", \"Cloud9am\", \"Cloud3pm\", \"Humidity9am\", \"Humidity3pm\", \"Rainfall\", \"Sunshine\", \"WindGustSpeed\", \"Pressure9am\", \"Pressure3pm\""
   ]
  },
  {
   "cell_type": "code",
   "execution_count": 61,
   "id": "82780952",
   "metadata": {},
   "outputs": [],
   "source": [
    "input_data = [0, 3.0, 2.0, 30.0, 43.0, 2.0, 10.0, 2.0, 9.0, 10.0]"
   ]
  },
  {
   "cell_type": "code",
   "execution_count": 62,
   "id": "ba969d34",
   "metadata": {},
   "outputs": [],
   "source": [
    "input_data_as_numpy_array = np.array(input_data)\n",
    "input_data_reshape = input_data_as_numpy_array.reshape(1,-1)\n",
    "sample_scale = scaler.transform(input_data_reshape)\n",
    "prediction = grid_result.predict(sample_scale)"
   ]
  },
  {
   "cell_type": "code",
   "execution_count": 63,
   "id": "018e8631",
   "metadata": {},
   "outputs": [
    {
     "name": "stdout",
     "output_type": "stream",
     "text": [
      "[1]\n",
      "Besok akan hujan\n"
     ]
    }
   ],
   "source": [
    "print(prediction)\n",
    "\n",
    "if (prediction == 1):\n",
    "    print(\"Besok akan hujan\")\n",
    "else:\n",
    "    print(\"Tidak akan hujan\")"
   ]
  },
  {
   "cell_type": "markdown",
   "id": "045b092f",
   "metadata": {},
   "source": [
    "## Saving Model"
   ]
  },
  {
   "cell_type": "code",
   "execution_count": 64,
   "id": "217c140c",
   "metadata": {},
   "outputs": [],
   "source": [
    "import pickle"
   ]
  },
  {
   "cell_type": "code",
   "execution_count": 65,
   "id": "2825d807",
   "metadata": {},
   "outputs": [],
   "source": [
    "pickle.dump(grid_result, open('best_model_logreg.pkl', 'wb'))"
   ]
  },
  {
   "cell_type": "code",
   "execution_count": 66,
   "id": "04f21444",
   "metadata": {},
   "outputs": [],
   "source": [
    "pickle.dump(scaler, open('scaler.pkl', 'wb'))"
   ]
  }
 ],
 "metadata": {
  "hide_input": false,
  "kernelspec": {
   "display_name": "Python 3 (ipykernel)",
   "language": "python",
   "name": "python3"
  },
  "language_info": {
   "codemirror_mode": {
    "name": "ipython",
    "version": 3
   },
   "file_extension": ".py",
   "mimetype": "text/x-python",
   "name": "python",
   "nbconvert_exporter": "python",
   "pygments_lexer": "ipython3",
   "version": "3.9.12"
  },
  "nbTranslate": {
   "displayLangs": [
    "*"
   ],
   "hotkey": "alt-t",
   "langInMainMenu": true,
   "sourceLang": "en",
   "targetLang": "fr",
   "useGoogleTranslate": true
  },
  "toc": {
   "base_numbering": 1,
   "nav_menu": {},
   "number_sections": true,
   "sideBar": true,
   "skip_h1_title": false,
   "title_cell": "Table of Contents",
   "title_sidebar": "Contents",
   "toc_cell": false,
   "toc_position": {
    "height": "calc(100% - 180px)",
    "left": "10px",
    "top": "150px",
    "width": "303.825px"
   },
   "toc_section_display": true,
   "toc_window_display": true
  }
 },
 "nbformat": 4,
 "nbformat_minor": 5
}
